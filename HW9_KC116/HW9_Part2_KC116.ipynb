{
 "cells": [
  {
   "cell_type": "markdown",
   "metadata": {},
   "source": [
    "\n",
    "exercises with statsmodels OLS and WLS created by fbb November 2018"
   ]
  },
  {
   "cell_type": "code",
   "execution_count": 1,
   "metadata": {},
   "outputs": [
    {
     "name": "stdout",
     "output_type": "stream",
     "text": [
      "Populating the interactive namespace from numpy and matplotlib\n"
     ]
    }
   ],
   "source": [
    "\n",
    "from __future__ import print_function, division\n",
    "import pylab as pl\n",
    "import os\n",
    "import json\n",
    "import statsmodels.api as sm\n",
    "import statsmodels.formula.api as smf\n",
    "from statsmodels.sandbox.regression.predstd import wls_prediction_std\n",
    "from statsmodels.graphics.api import abline_plot\n",
    "#s = json.load( open(os.getenv('PUI2018')+\"/fbb_matplotlibrc.json\") )\n",
    "#pl.rcParams.update(s)\n",
    "# Error unsupported operand type(s) for +: 'NoneType' and 'str'\n",
    "%pylab inline\n",
    "\n",
    "#https://www.statsmodels.org/dev/examples/notebooks/generated/ols.html"
   ]
  },
  {
   "cell_type": "code",
   "execution_count": 2,
   "metadata": {},
   "outputs": [],
   "source": [
    "def errors(x):\n",
    "    return np.sqrt(x)\n",
    "    \n",
    "\n",
    "def line(a, x, b=0, errors=None):\n",
    "    '''\n",
    "    creates a line from parameters and exogenous variable\n",
    "    a: slope\n",
    "    x: exogenous variable\n",
    "    b: intercept - default 0\n",
    "    errors: add uncertainties (sqrt(N) - default True)\n",
    "    '''\n",
    "    np.random.randn(123)\n",
    "    if errors is None:\n",
    "        return a*x + b \n",
    "    else:\n",
    "        return a*x + b + np.random.randn(len(x)) * errors(x)\n"
   ]
  },
  {
   "cell_type": "markdown",
   "metadata": {},
   "source": [
    "\n",
    "## 1. create a line with a chosen slope and intercept = 0 and plot it with uncertainties as errorbars\n",
    "use the functions created above"
   ]
  },
  {
   "cell_type": "code",
   "execution_count": 3,
   "metadata": {},
   "outputs": [],
   "source": [
    "#creating a plot with 10 random points between 0 and 100.\n",
    "#adding error bars to plot\n",
    "\n"
   ]
  },
  {
   "cell_type": "code",
   "execution_count": 4,
   "metadata": {},
   "outputs": [
    {
     "data": {
      "image/png": "[encoded data removed]",
      "text/plain": [
       "<matplotlib.figure.Figure at 0x7fce7f60dcc0>"
      ]
     },
     "metadata": {},
     "output_type": "display_data"
    }
   ],
   "source": [
    "x = np.linspace(0,100,10) \n",
    "y = line(1, x, 0, errors=errors)\n",
    "pl.scatter(x,y, label = \"randon points\")\n",
    "pl.errorbar(x, y, yerr=errors(x), fmt='.')\n",
    "pl.xlabel(\"Exogenous variable\")\n",
    "pl.ylabel(\"Endogenous variable\")\n",
    "pl.title('Eerrorbars')\n",
    "pl.grid();"
   ]
  },
  {
   "cell_type": "markdown",
   "metadata": {},
   "source": [
    "## 2. print y, x, and the result of applying statsmodels.api.add_constant() to x"
   ]
  },
  {
   "cell_type": "code",
   "execution_count": 5,
   "metadata": {},
   "outputs": [
    {
     "data": {
      "text/plain": [
       "array([ 0.        , 16.14282235, 25.54805598, 33.54346005, 41.17716893,\n",
       "       67.91469509, 76.39928459, 74.82906731, 85.07318097, 91.70107207])"
      ]
     },
     "execution_count": 5,
     "metadata": {},
     "output_type": "execute_result"
    }
   ],
   "source": [
    "y "
   ]
  },
  {
   "cell_type": "code",
   "execution_count": 6,
   "metadata": {},
   "outputs": [
    {
     "data": {
      "text/plain": [
       "array([  0.        ,  11.11111111,  22.22222222,  33.33333333,\n",
       "        44.44444444,  55.55555556,  66.66666667,  77.77777778,\n",
       "        88.88888889, 100.        ])"
      ]
     },
     "execution_count": 6,
     "metadata": {},
     "output_type": "execute_result"
    }
   ],
   "source": [
    "x"
   ]
  },
  {
   "cell_type": "code",
   "execution_count": 7,
   "metadata": {},
   "outputs": [
    {
     "data": {
      "text/plain": [
       "array([[  1.        ,   0.        ],\n",
       "       [  1.        ,  11.11111111],\n",
       "       [  1.        ,  22.22222222],\n",
       "       [  1.        ,  33.33333333],\n",
       "       [  1.        ,  44.44444444],\n",
       "       [  1.        ,  55.55555556],\n",
       "       [  1.        ,  66.66666667],\n",
       "       [  1.        ,  77.77777778],\n",
       "       [  1.        ,  88.88888889],\n",
       "       [  1.        , 100.        ]])"
      ]
     },
     "execution_count": 7,
     "metadata": {},
     "output_type": "execute_result"
    }
   ],
   "source": [
    "sm.add_constant(x)\n"
   ]
  },
  {
   "cell_type": "markdown",
   "metadata": {},
   "source": [
    "# 3.use statsmodels.api.OLS to fit x and y \n",
    "- *the wrong way*: by passing x as exogenous variable\n",
    "- *the right way*: by passing statsmodels.api.add_constant(x) as exogenous variable\n",
    "\n",
    "print the model summary for each and discuss the differences"
   ]
  },
  {
   "cell_type": "markdown",
   "metadata": {},
   "source": [
    "- Fit and summary:"
   ]
  },
  {
   "cell_type": "code",
   "execution_count": 8,
   "metadata": {},
   "outputs": [
    {
     "name": "stdout",
     "output_type": "stream",
     "text": [
      "                            OLS Regression Results                            \n",
      "==============================================================================\n",
      "Dep. Variable:                      y   R-squared:                       0.989\n",
      "Model:                            OLS   Adj. R-squared:                  0.988\n",
      "Method:                 Least Squares   F-statistic:                     815.9\n",
      "Date:                Wed, 14 Nov 2018   Prob (F-statistic):           3.85e-10\n",
      "Time:                        21:54:12   Log-Likelihood:                -32.463\n",
      "No. Observations:                  10   AIC:                             66.93\n",
      "Df Residuals:                       9   BIC:                             67.23\n",
      "Df Model:                           1                                         \n",
      "Covariance Type:            nonrobust                                         \n",
      "==============================================================================\n",
      "                 coef    std err          t      P>|t|      [95.0% Conf. Int.]\n",
      "------------------------------------------------------------------------------\n",
      "x1             0.9980      0.035     28.564      0.000         0.919     1.077\n",
      "==============================================================================\n",
      "Omnibus:                        0.578   Durbin-Watson:                   1.248\n",
      "Prob(Omnibus):                  0.749   Jarque-Bera (JB):                0.548\n",
      "Skew:                           0.418   Prob(JB):                        0.760\n",
      "Kurtosis:                       2.216   Cond. No.                         1.00\n",
      "==============================================================================\n",
      "\n",
      "Warnings:\n",
      "[1] Standard Errors assume that the covariance matrix of the errors is correctly specified.\n"
     ]
    },
    {
     "name": "stderr",
     "output_type": "stream",
     "text": [
      "/usr/local/Anaconda3-5.0.0-Linux-x86_64/envs/PUI2016_Python3/lib/python3.5/site-packages/scipy/stats/stats.py:1535: UserWarning: kurtosistest only valid for n>=20 ... continuing anyway, n=10\n",
      "  \"anyway, n=%i\" % int(n))\n"
     ]
    }
   ],
   "source": [
    "#Wrong Way \n",
    "M = sm.OLS(y, x)\n",
    "results = M.fit()\n",
    "print(results.summary())"
   ]
  },
  {
   "cell_type": "code",
   "execution_count": 9,
   "metadata": {},
   "outputs": [
    {
     "name": "stdout",
     "output_type": "stream",
     "text": [
      "                            OLS Regression Results                            \n",
      "==============================================================================\n",
      "Dep. Variable:                      y   R-squared:                       0.965\n",
      "Model:                            OLS   Adj. R-squared:                  0.960\n",
      "Method:                 Least Squares   F-statistic:                     218.0\n",
      "Date:                Wed, 14 Nov 2018   Prob (F-statistic):           4.36e-07\n",
      "Time:                        21:54:12   Log-Likelihood:                -31.596\n",
      "No. Observations:                  10   AIC:                             67.19\n",
      "Df Residuals:                       8   BIC:                             67.80\n",
      "Df Model:                           1                                         \n",
      "Covariance Type:            nonrobust                                         \n",
      "==============================================================================\n",
      "                 coef    std err          t      P>|t|      [95.0% Conf. Int.]\n",
      "------------------------------------------------------------------------------\n",
      "const          4.6093      3.747      1.230      0.254        -4.030    13.249\n",
      "x1             0.9325      0.063     14.763      0.000         0.787     1.078\n",
      "==============================================================================\n",
      "Omnibus:                        3.509   Durbin-Watson:                   1.463\n",
      "Prob(Omnibus):                  0.173   Jarque-Bera (JB):                1.846\n",
      "Skew:                           1.042   Prob(JB):                        0.397\n",
      "Kurtosis:                       2.709   Cond. No.                         110.\n",
      "==============================================================================\n",
      "\n",
      "Warnings:\n",
      "[1] Standard Errors assume that the covariance matrix of the errors is correctly specified.\n"
     ]
    },
    {
     "name": "stderr",
     "output_type": "stream",
     "text": [
      "/usr/local/Anaconda3-5.0.0-Linux-x86_64/envs/PUI2016_Python3/lib/python3.5/site-packages/scipy/stats/stats.py:1535: UserWarning: kurtosistest only valid for n>=20 ... continuing anyway, n=10\n",
      "  \"anyway, n=%i\" % int(n))\n"
     ]
    }
   ],
   "source": [
    "#Right way\n",
    "Mfit= sm.OLS(y, sm.add_constant(x)).fit()\n",
    "\n",
    "print(Mfit.summary())"
   ]
  },
  {
   "cell_type": "markdown",
   "metadata": {},
   "source": [
    "\n",
    "## 4. plot the data (as points) and both statsmodels fits"
   ]
  },
  {
   "cell_type": "code",
   "execution_count": 10,
   "metadata": {},
   "outputs": [
    {
     "data": {
      "image/png": "[encoded data removed]",
      "text/plain": [
       "<matplotlib.figure.Figure at 0x7fce7ec80400>"
      ]
     },
     "metadata": {},
     "output_type": "display_data"
    }
   ],
   "source": [
    "fig, ax = plt.subplots(figsize=(8,8))\n",
    "ax.scatter(x,y)\n",
    "abline_plot(model_results=Mfit, ax=ax, color='red')\n",
    "plt.title('Data and statsmodels fits')\n",
    "pl.xlabel(\"exogenous variable\")\n",
    "pl.ylabel(\"endogenous variable\")\n",
    "pl.grid()"
   ]
  },
  {
   "cell_type": "markdown",
   "metadata": {},
   "source": [
    "# 5. create a line with a chosen slope and a chosen intercept >=100*slope and plot it with uncertainties as errorbars"
   ]
  },
  {
   "cell_type": "code",
   "execution_count": 11,
   "metadata": {},
   "outputs": [
    {
     "data": {
      "image/png": "[encoded data removed]",
      "text/plain": [
       "<matplotlib.figure.Figure at 0x7fce7ec69f60>"
      ]
     },
     "metadata": {},
     "output_type": "display_data"
    }
   ],
   "source": [
    "y_new =line(1, x, 211, errors=errors)\n",
    "pl.errorbar(x=x, y=y_new, yerr=errors(x), fmt=\".\")\n",
    "\n",
    "pl.xlabel(\"Exogenous variable\")\n",
    "pl.ylabel(\"Endogenous variable\")\n",
    "pl.title('Errorbart')\n",
    "pl.grid()\n"
   ]
  },
  {
   "cell_type": "markdown",
   "metadata": {},
   "source": [
    "\n",
    "## 6. repeat step 3"
   ]
  },
  {
   "cell_type": "code",
   "execution_count": 13,
   "metadata": {},
   "outputs": [
    {
     "name": "stdout",
     "output_type": "stream",
     "text": [
      "                            OLS Regression Results                            \n",
      "==============================================================================\n",
      "Dep. Variable:                      y   R-squared:                       0.973\n",
      "Model:                            OLS   Adj. R-squared:                  0.970\n",
      "Method:                 Least Squares   F-statistic:                     293.8\n",
      "Date:                Wed, 14 Nov 2018   Prob (F-statistic):           1.36e-07\n",
      "Time:                        21:54:29   Log-Likelihood:                -31.194\n",
      "No. Observations:                  10   AIC:                             66.39\n",
      "Df Residuals:                       8   BIC:                             66.99\n",
      "Df Model:                           1                                         \n",
      "Covariance Type:            nonrobust                                         \n",
      "==============================================================================\n",
      "                 coef    std err          t      P>|t|      [95.0% Conf. Int.]\n",
      "------------------------------------------------------------------------------\n",
      "const        211.9903      3.599     58.906      0.000       203.691   220.289\n",
      "x1             1.0400      0.061     17.142      0.000         0.900     1.180\n",
      "==============================================================================\n",
      "Omnibus:                       10.562   Durbin-Watson:                   2.505\n",
      "Prob(Omnibus):                  0.005   Jarque-Bera (JB):                4.799\n",
      "Skew:                           1.564   Prob(JB):                       0.0908\n",
      "Kurtosis:                       4.315   Cond. No.                         110.\n",
      "==============================================================================\n",
      "\n",
      "Warnings:\n",
      "[1] Standard Errors assume that the covariance matrix of the errors is correctly specified.\n"
     ]
    },
    {
     "name": "stderr",
     "output_type": "stream",
     "text": [
      "/usr/local/Anaconda3-5.0.0-Linux-x86_64/envs/PUI2016_Python3/lib/python3.5/site-packages/scipy/stats/stats.py:1535: UserWarning: kurtosistest only valid for n>=20 ... continuing anyway, n=10\n",
      "  \"anyway, n=%i\" % int(n))\n"
     ]
    }
   ],
   "source": [
    "smfit_new = smf.OLS(y_new, sm.add_constant(x)).fit()\n",
    "print(smfit_new.summary())"
   ]
  },
  {
   "cell_type": "markdown",
   "metadata": {},
   "source": [
    "## 7. repeat step 4"
   ]
  },
  {
   "cell_type": "code",
   "execution_count": 14,
   "metadata": {},
   "outputs": [
    {
     "name": "stdout",
     "output_type": "stream",
     "text": [
      "                            OLS Regression Results                            \n",
      "==============================================================================\n",
      "Dep. Variable:                      y   R-squared:                       0.989\n",
      "Model:                            OLS   Adj. R-squared:                  0.988\n",
      "Method:                 Least Squares   F-statistic:                     815.9\n",
      "Date:                Wed, 14 Nov 2018   Prob (F-statistic):           3.85e-10\n",
      "Time:                        21:54:32   Log-Likelihood:                -32.463\n",
      "No. Observations:                  10   AIC:                             66.93\n",
      "Df Residuals:                       9   BIC:                             67.23\n",
      "Df Model:                           1                                         \n",
      "Covariance Type:            nonrobust                                         \n",
      "==============================================================================\n",
      "                 coef    std err          t      P>|t|      [95.0% Conf. Int.]\n",
      "------------------------------------------------------------------------------\n",
      "x1             0.9980      0.035     28.564      0.000         0.919     1.077\n",
      "==============================================================================\n",
      "Omnibus:                        0.578   Durbin-Watson:                   1.248\n",
      "Prob(Omnibus):                  0.749   Jarque-Bera (JB):                0.548\n",
      "Skew:                           0.418   Prob(JB):                        0.760\n",
      "Kurtosis:                       2.216   Cond. No.                         1.00\n",
      "==============================================================================\n",
      "\n",
      "Warnings:\n",
      "[1] Standard Errors assume that the covariance matrix of the errors is correctly specified.\n"
     ]
    },
    {
     "name": "stderr",
     "output_type": "stream",
     "text": [
      "/usr/local/Anaconda3-5.0.0-Linux-x86_64/envs/PUI2016_Python3/lib/python3.5/site-packages/scipy/stats/stats.py:1535: UserWarning: kurtosistest only valid for n>=20 ... continuing anyway, n=10\n",
      "  \"anyway, n=%i\" % int(n))\n"
     ]
    }
   ],
   "source": [
    "smfit = smf.OLS(y, x).fit()\n",
    "print(smfit.summary())"
   ]
  },
  {
   "cell_type": "code",
   "execution_count": 15,
   "metadata": {},
   "outputs": [
    {
     "data": {
      "image/png": "[encoded data removed]",
      "text/plain": [
       "<matplotlib.figure.Figure at 0x7fce79e39c88>"
      ]
     },
     "metadata": {},
     "output_type": "display_data"
    }
   ],
   "source": [
    "fig, ax = plt.subplots(figsize=(8,8))\n",
    "ax.scatter(x,y_new)\n",
    "abline_plot(model_results=smfit_new, ax=ax, color='red')\n",
    "pl.title('Data and statsmodels fits')\n",
    "pl.xlabel(\"exogenous variable\")\n",
    "pl.ylabel(\"endogenous variable\")\n",
    "pl.grid()"
   ]
  },
  {
   "cell_type": "markdown",
   "metadata": {},
   "source": [
    "## 8. now fit the data with WLS weighted least square, a linear fit that takes into account the uncertainties by \"down-weighting\" (considering less important) observations with large uncertainties¶\n",
    "\n",
    "\n"
   ]
  },
  {
   "cell_type": "code",
   "execution_count": 16,
   "metadata": {},
   "outputs": [
    {
     "name": "stdout",
     "output_type": "stream",
     "text": [
      "                            WLS Regression Results                            \n",
      "==============================================================================\n",
      "Dep. Variable:                      y   R-squared:                       0.973\n",
      "Model:                            WLS   Adj. R-squared:                  0.970\n",
      "Method:                 Least Squares   F-statistic:                     293.8\n",
      "Date:                Wed, 14 Nov 2018   Prob (F-statistic):           1.36e-07\n",
      "Time:                        21:54:36   Log-Likelihood:                -31.194\n",
      "No. Observations:                  10   AIC:                             66.39\n",
      "Df Residuals:                       8   BIC:                             66.99\n",
      "Df Model:                           1                                         \n",
      "Covariance Type:            nonrobust                                         \n",
      "==============================================================================\n",
      "                 coef    std err          t      P>|t|      [95.0% Conf. Int.]\n",
      "------------------------------------------------------------------------------\n",
      "const        211.9903      3.599     58.906      0.000       203.691   220.289\n",
      "x1             1.0400      0.061     17.142      0.000         0.900     1.180\n",
      "==============================================================================\n",
      "Omnibus:                       10.562   Durbin-Watson:                   2.505\n",
      "Prob(Omnibus):                  0.005   Jarque-Bera (JB):                4.799\n",
      "Skew:                           1.564   Prob(JB):                       0.0908\n",
      "Kurtosis:                       4.315   Cond. No.                         110.\n",
      "==============================================================================\n",
      "\n",
      "Warnings:\n",
      "[1] Standard Errors assume that the covariance matrix of the errors is correctly specified.\n"
     ]
    },
    {
     "name": "stderr",
     "output_type": "stream",
     "text": [
      "/usr/local/Anaconda3-5.0.0-Linux-x86_64/envs/PUI2016_Python3/lib/python3.5/site-packages/scipy/stats/stats.py:1535: UserWarning: kurtosistest only valid for n>=20 ... continuing anyway, n=10\n",
      "  \"anyway, n=%i\" % int(n))\n"
     ]
    }
   ],
   "source": [
    "WLS = smf.WLS(y_new, sm.add_constant(x)).fit()\n",
    "print(WLS.summary())"
   ]
  },
  {
   "cell_type": "markdown",
   "metadata": {},
   "source": [
    "you should at this point ask: how can I create weights from my uncertainties? The answer, as often is the case, is not unique. But a rule of thumb is that the weights would be the inverse (remember: larger error must mean smaller weight) of the variance, with is the standard deviation square. Look at the error() function I create and design your weights array according to this rule"
   ]
  },
  {
   "cell_type": "markdown",
   "metadata": {},
   "source": [
    "\n",
    "## 9. Note: you can also use other statsmodels functions, for example statsmodels.formula.api which allows to pass an equation\n",
    "again, make sure that your formula supports an intercept (no deliverable for this portion, it's up to you to explore the use of this function)"
   ]
  },
  {
   "cell_type": "code",
   "execution_count": 18,
   "metadata": {},
   "outputs": [
    {
     "data": {
      "image/png": "[encoded data removed]",
      "text/plain": [
       "<matplotlib.figure.Figure at 0x7fce7beb7828>"
      ]
     },
     "metadata": {},
     "output_type": "display_data"
    }
   ],
   "source": [
    "# all data types that host data paired with labels\n",
    "smfm = smf.ols('y ~ x + const', data={'x':x, 'y':y_new, 'const':np.ones(len(x))}).fit()\n",
    "pl.errorbar(x, y_new, yerr=errors(x), fmt='.')\n",
    "pl.plot(x, smfm.fittedvalues, '-', label=\"sm.OLS\")\n",
    "pl.plot(x, smfm.fittedvalues, '-', label=\"smf.ols\")\n",
    "plt.title('Data and statsmodels fits using other functions')\n",
    "pl.xlabel(\"exogenous variable\")\n",
    "pl.ylabel(\"endogenous variable\")\n",
    "pl.legend();\n",
    "pl.grid();"
   ]
  },
  {
   "cell_type": "markdown",
   "metadata": {},
   "source": [
    "###### Reference\n",
    "###### https://www.statsmodels.org/dev/examples/notebooks/generated/ols.html\n",
    "###### https://www.statsmodels.org/stable/index.html\n",
    "\n"
   ]
  },
  {
   "cell_type": "code",
   "execution_count": null,
   "metadata": {},
   "outputs": [],
   "source": []
  }
 ],
 "metadata": {
  "kernelspec": {
   "display_name": "PUI2016_Python3",
   "language": "python",
   "name": "pui2016_python3"
  },
  "language_info": {
   "codemirror_mode": {
    "name": "ipython",
    "version": 3
   },
   "file_extension": ".py",
   "mimetype": "text/x-python",
   "name": "python",
   "nbconvert_exporter": "python",
   "pygments_lexer": "ipython3",
   "version": "3.5.4"
  }
 },
 "nbformat": 4,
 "nbformat_minor": 2
}
