{
 "cells": [
  {
   "cell_type": "markdown",
   "metadata": {
    "run_control": {
     "frozen": false,
     "read_only": false
    },
    "toc": "true"
   },
   "source": [
    "# Table of Contents\n",
    " <p><div class=\"lev1 toc-item\"><a href=\"#DATA:\" data-toc-modified-id=\"DATA:-1\"><span class=\"toc-item-num\">1&nbsp;&nbsp;</span>DATA:</a></div><div class=\"lev1 toc-item\"><a href=\"#exploration\" data-toc-modified-id=\"exploration-2\"><span class=\"toc-item-num\">2&nbsp;&nbsp;</span>exploration</a></div><div class=\"lev2 toc-item\"><a href=\"#plot-mass-shooting-vs-gdp-in-absolute-numbers,-and-per-person.-Show-the-errorbars-(y-errors)\" data-toc-modified-id=\"plot-mass-shooting-vs-gdp-in-absolute-numbers,-and-per-person.-Show-the-errorbars-(y-errors)-21\"><span class=\"toc-item-num\">2.1&nbsp;&nbsp;</span>plot mass shooting vs gdp in absolute numbers, and per person. Show the errorbars (y errors)</a></div><div class=\"lev2 toc-item\"><a href=\"#plot-the-average-number-of-civilian-fire-arms-per-person\" data-toc-modified-id=\"plot-the-average-number-of-civilian-fire-arms-per-person-22\"><span class=\"toc-item-num\">2.2&nbsp;&nbsp;</span>plot the average number of civilian fire arms per person</a></div><div class=\"lev2 toc-item\"><a href=\"#plot-the-average-number-of-homicide-by-fire-arms-per-person\" data-toc-modified-id=\"plot-the-average-number-of-homicide-by-fire-arms-per-person-23\"><span class=\"toc-item-num\">2.3&nbsp;&nbsp;</span>plot the average number of homicide by fire arms per person</a></div><div class=\"lev2 toc-item\"><a href=\"#plot-the-number-of--homicides-by-fire-arm-against-the-number-of-civilian-firearms.-plot-the--US-in-a-different-color\" data-toc-modified-id=\"plot-the-number-of--homicides-by-fire-arm-against-the-number-of-civilian-firearms.-plot-the--US-in-a-different-color-24\"><span class=\"toc-item-num\">2.4&nbsp;&nbsp;</span>plot the number of  homicides by fire arm against the number of civilian firearms. plot the  US in a different color</a></div><div class=\"lev2 toc-item\"><a href=\"#plot-the-number-of--mass-shootings-against-the-number-of-civilian-firearms.-plot-the--US-in-a-different-color\" data-toc-modified-id=\"plot-the-number-of--mass-shootings-against-the-number-of-civilian-firearms.-plot-the--US-in-a-different-color-25\"><span class=\"toc-item-num\">2.5&nbsp;&nbsp;</span>plot the number of  mass shootings against the number of civilian firearms. plot the  US in a different color</a></div><div class=\"lev1 toc-item\"><a href=\"#Modeling\" data-toc-modified-id=\"Modeling-3\"><span class=\"toc-item-num\">3&nbsp;&nbsp;</span>Modeling</a></div><div class=\"lev2 toc-item\"><a href=\"#fit-a-line-to-the-Number-of-mass-shootings--per-person-as-a-function-of-Average-total-all-civilian-firearms-per-person.\" data-toc-modified-id=\"fit-a-line-to-the-Number-of-mass-shootings--per-person-as-a-function-of-Average-total-all-civilian-firearms-per-person.-31\"><span class=\"toc-item-num\">3.1&nbsp;&nbsp;</span>fit a line to the Number of mass shootings  per person as a function of Average total all civilian firearms per person.</a></div><div class=\"lev2 toc-item\"><a href=\"#Outlier-removal:\" data-toc-modified-id=\"Outlier-removal:-32\"><span class=\"toc-item-num\">3.2&nbsp;&nbsp;</span>Outlier removal:</a></div><div class=\"lev2 toc-item\"><a href=\"#Extra-credit:-calculate-the-confidence-interval-by-hand-and-also-plot-them\" data-toc-modified-id=\"Extra-credit:-calculate-the-confidence-interval-by-hand-and-also-plot-them-33\"><span class=\"toc-item-num\">3.3&nbsp;&nbsp;</span>Extra credit: calculate the confidence interval by hand and also plot them</a></div><div class=\"lev2 toc-item\"><a href=\"#Use-the-stsatsmodels.gaphics-package-to-plot-the-influence-plot.\" data-toc-modified-id=\"Use-the-stsatsmodels.gaphics-package-to-plot-the-influence-plot.-34\"><span class=\"toc-item-num\">3.4&nbsp;&nbsp;</span>Use the stsatsmodels.gaphics package to plot the influence plot.</a></div><div class=\"lev2 toc-item\"><a href=\"#Extra-credit:-calculate-from-scratch-the-stanrdardized-residuals-and-the-H-leverage-for-the-WLS-model-and-discuss-if-there-are-any-differences\" data-toc-modified-id=\"Extra-credit:-calculate-from-scratch-the-stanrdardized-residuals-and-the-H-leverage-for-the-WLS-model-and-discuss-if-there-are-any-differences-35\"><span class=\"toc-item-num\">3.5&nbsp;&nbsp;</span>Extra credit: calculate from scratch the stanrdardized residuals and the H leverage for the WLS model and discuss if there are any differences</a></div><div class=\"lev2 toc-item\"><a href=\"#Discuss-your-findings\" data-toc-modified-id=\"Discuss-your-findings-36\"><span class=\"toc-item-num\">3.6&nbsp;&nbsp;</span>Discuss your findings</a></div>"
   ]
  },
  {
   "cell_type": "markdown",
   "metadata": {
    "run_control": {
     "frozen": false,
     "read_only": false
    }
   },
   "source": [
    "**regression exercise**\n",
    "\n",
    "**written by Federica B Bianco CUSP 2017**\n",
    "\n",
    "**for PUI lecture on models and linear regression**"
   ]
  },
  {
   "cell_type": "markdown",
   "metadata": {
    "run_control": {
     "frozen": false,
     "read_only": false
    }
   },
   "source": [
    "**investigate linear relationships between fire arm possession, homicides by fire arms, and mass shootings for different countries, considering also the country GDP**"
   ]
  },
  {
   "cell_type": "markdown",
   "metadata": {
    "run_control": {
     "frozen": false,
     "read_only": false
    }
   },
   "source": [
    "# 1. DATA: \n",
    "\n",
    "The Guardian firearms murders and ownership data. The relevans sheet is uploaded in the github repository as a csv file. Download it from there. Note: this dataset is from 2012.\n",
    "\n",
    "**Extra credit**: download directly from google docs with a google API\n",
    "\n",
    "https://docs.google.com/spreadsheets/d/1chqUZHuY6cXYrRYkuE0uwXisGaYvr7durZHJhpLGycs/edit#gid=0\n",
    "\n",
    "Number of mass shootings: find the link here https://datawrapper.dwcdn.net/pvLFI/4/\n",
    "\n",
    "The world population by country find the download link here :\n",
    "https://data.worldbank.org/indicator/SP.POP.TOTL\n",
    "\n",
    "Remember that all read or downloads have to me reproducible.\n",
    "\n",
    "Merge all datasets. After throwing away the irrelevant data it should look something like this (I renamed the GDP and the population as gdp\" and \"pop\")\n",
    "\n",
    "Throughout, when I ask you to include errors in plots or models, use Poisson statistics: the error is the square root of the number you are considering (e.g. this country has N fire arms +/- square root of N, or this country has Np [= N/population +/- (square root of N) / population] fire arms per person)."
   ]
  },
  {
   "cell_type": "code",
   "execution_count": 1,
   "metadata": {},
   "outputs": [
    {
     "name": "stderr",
     "output_type": "stream",
     "text": [
      "/usr/local/Anaconda3-5.0.0-Linux-x86_64/envs/PUI2016_Python3/lib/python3.5/site-packages/IPython/html.py:14: ShimWarning: The `IPython.html` package has been deprecated. You should import from `notebook` instead. `IPython.html.widgets` has moved to `ipywidgets`.\n",
      "  \"`IPython.html.widgets` has moved to `ipywidgets`.\", ShimWarning)\n"
     ]
    },
    {
     "name": "stdout",
     "output_type": "stream",
     "text": [
      "Populating the interactive namespace from numpy and matplotlib\n"
     ]
    }
   ],
   "source": [
    "import pandas as pd\n",
    "import os\n",
    "import io\n",
    "import json\n",
    "import shapely\n",
    "import geopandas as gpd\n",
    "import matplotlib.pylab as pl\n",
    "import seaborn as sns\n",
    "import statsmodels.formula.api as smf\n",
    "import statsmodels.api as sm\n",
    "import zipfile\n",
    "%pylab inline"
   ]
  },
  {
   "cell_type": "code",
   "execution_count": 2,
   "metadata": {},
   "outputs": [
    {
     "data": {
      "text/html": [
       "<div>\n",
       "<table border=\"1\" class=\"dataframe\">\n",
       "  <thead>\n",
       "    <tr style=\"text-align: right;\">\n",
       "      <th></th>\n",
       "      <th>Country/Territory</th>\n",
       "      <th>ISO code</th>\n",
       "      <th>Source</th>\n",
       "      <th>% of homicides by firearm</th>\n",
       "      <th>Number of homicides by firearm</th>\n",
       "      <th>Homicide by firearm rate per 100,000 pop</th>\n",
       "      <th>Rank by rate of ownership</th>\n",
       "      <th>Average firearms per 100 people</th>\n",
       "      <th>Average total all civilian firearms</th>\n",
       "    </tr>\n",
       "  </thead>\n",
       "  <tbody>\n",
       "    <tr>\n",
       "      <th>0</th>\n",
       "      <td>Albania</td>\n",
       "      <td>AL</td>\n",
       "      <td>CTS</td>\n",
       "      <td>65.9</td>\n",
       "      <td>56.0</td>\n",
       "      <td>1.76</td>\n",
       "      <td>70.0</td>\n",
       "      <td>8.6</td>\n",
       "      <td>270000.0</td>\n",
       "    </tr>\n",
       "    <tr>\n",
       "      <th>1</th>\n",
       "      <td>Algeria</td>\n",
       "      <td>DZ</td>\n",
       "      <td>CTS</td>\n",
       "      <td>4.8</td>\n",
       "      <td>20.0</td>\n",
       "      <td>0.06</td>\n",
       "      <td>78.0</td>\n",
       "      <td>7.6</td>\n",
       "      <td>1900000.0</td>\n",
       "    </tr>\n",
       "    <tr>\n",
       "      <th>2</th>\n",
       "      <td>Angola</td>\n",
       "      <td>AO</td>\n",
       "      <td>NaN</td>\n",
       "      <td>NaN</td>\n",
       "      <td>NaN</td>\n",
       "      <td>NaN</td>\n",
       "      <td>34.0</td>\n",
       "      <td>17.3</td>\n",
       "      <td>2800000.0</td>\n",
       "    </tr>\n",
       "    <tr>\n",
       "      <th>3</th>\n",
       "      <td>Anguilla</td>\n",
       "      <td>AI</td>\n",
       "      <td>WHO-MDB</td>\n",
       "      <td>24.0</td>\n",
       "      <td>1.0</td>\n",
       "      <td>7.14</td>\n",
       "      <td>NaN</td>\n",
       "      <td>NaN</td>\n",
       "      <td>NaN</td>\n",
       "    </tr>\n",
       "    <tr>\n",
       "      <th>4</th>\n",
       "      <td>Argentina</td>\n",
       "      <td>AR</td>\n",
       "      <td>Ministry of Justice</td>\n",
       "      <td>52.0</td>\n",
       "      <td>1198.0</td>\n",
       "      <td>3.02</td>\n",
       "      <td>62.0</td>\n",
       "      <td>10.2</td>\n",
       "      <td>3950000.0</td>\n",
       "    </tr>\n",
       "  </tbody>\n",
       "</table>\n",
       "</div>"
      ],
      "text/plain": [
       "  Country/Territory ISO code               Source  % of homicides by firearm  \\\n",
       "0           Albania       AL                  CTS                       65.9   \n",
       "1           Algeria       DZ                  CTS                        4.8   \n",
       "2            Angola       AO                  NaN                        NaN   \n",
       "3          Anguilla       AI              WHO-MDB                       24.0   \n",
       "4         Argentina       AR  Ministry of Justice                       52.0   \n",
       "\n",
       "   Number of homicides by firearm  Homicide by firearm rate per 100,000 pop  \\\n",
       "0                            56.0                                      1.76   \n",
       "1                            20.0                                      0.06   \n",
       "2                             NaN                                       NaN   \n",
       "3                             1.0                                      7.14   \n",
       "4                          1198.0                                      3.02   \n",
       "\n",
       "   Rank by rate of ownership  Average firearms per 100 people  \\\n",
       "0                       70.0                              8.6   \n",
       "1                       78.0                              7.6   \n",
       "2                       34.0                             17.3   \n",
       "3                        NaN                              NaN   \n",
       "4                       62.0                             10.2   \n",
       "\n",
       "   Average total all civilian firearms  \n",
       "0                             270000.0  \n",
       "1                            1900000.0  \n",
       "2                            2800000.0  \n",
       "3                                  NaN  \n",
       "4                            3950000.0  "
      ]
     },
     "execution_count": 2,
     "metadata": {},
     "output_type": "execute_result"
    }
   ],
   "source": [
    "# Read the csv num of homicides by firearm\n",
    "df1 = pd.read_csv(\"World firearms murders and ownership - Sheet 1.csv\")\n",
    "#date.value_counts()\n",
    "df1.head()"
   ]
  },
  {
   "cell_type": "code",
   "execution_count": 3,
   "metadata": {},
   "outputs": [
    {
     "data": {
      "text/html": [
       "<div>\n",
       "<table border=\"1\" class=\"dataframe\">\n",
       "  <thead>\n",
       "    <tr style=\"text-align: right;\">\n",
       "      <th></th>\n",
       "      <th>Country/Territory</th>\n",
       "      <th>% of homicides by firearm</th>\n",
       "      <th>Number of homicides by firearm</th>\n",
       "      <th>Homicide by firearm rate per 100,000 pop</th>\n",
       "      <th>Average firearms per 100 people</th>\n",
       "      <th>Average total all civilian firearms</th>\n",
       "    </tr>\n",
       "  </thead>\n",
       "  <tbody>\n",
       "    <tr>\n",
       "      <th>0</th>\n",
       "      <td>Albania</td>\n",
       "      <td>65.9</td>\n",
       "      <td>56.0</td>\n",
       "      <td>1.76</td>\n",
       "      <td>8.6</td>\n",
       "      <td>270000.0</td>\n",
       "    </tr>\n",
       "    <tr>\n",
       "      <th>1</th>\n",
       "      <td>Algeria</td>\n",
       "      <td>4.8</td>\n",
       "      <td>20.0</td>\n",
       "      <td>0.06</td>\n",
       "      <td>7.6</td>\n",
       "      <td>1900000.0</td>\n",
       "    </tr>\n",
       "    <tr>\n",
       "      <th>2</th>\n",
       "      <td>Angola</td>\n",
       "      <td>NaN</td>\n",
       "      <td>NaN</td>\n",
       "      <td>NaN</td>\n",
       "      <td>17.3</td>\n",
       "      <td>2800000.0</td>\n",
       "    </tr>\n",
       "    <tr>\n",
       "      <th>3</th>\n",
       "      <td>Anguilla</td>\n",
       "      <td>24.0</td>\n",
       "      <td>1.0</td>\n",
       "      <td>7.14</td>\n",
       "      <td>NaN</td>\n",
       "      <td>NaN</td>\n",
       "    </tr>\n",
       "    <tr>\n",
       "      <th>4</th>\n",
       "      <td>Argentina</td>\n",
       "      <td>52.0</td>\n",
       "      <td>1198.0</td>\n",
       "      <td>3.02</td>\n",
       "      <td>10.2</td>\n",
       "      <td>3950000.0</td>\n",
       "    </tr>\n",
       "  </tbody>\n",
       "</table>\n",
       "</div>"
      ],
      "text/plain": [
       "  Country/Territory  % of homicides by firearm  \\\n",
       "0           Albania                       65.9   \n",
       "1           Algeria                        4.8   \n",
       "2            Angola                        NaN   \n",
       "3          Anguilla                       24.0   \n",
       "4         Argentina                       52.0   \n",
       "\n",
       "   Number of homicides by firearm  Homicide by firearm rate per 100,000 pop  \\\n",
       "0                            56.0                                      1.76   \n",
       "1                            20.0                                      0.06   \n",
       "2                             NaN                                       NaN   \n",
       "3                             1.0                                      7.14   \n",
       "4                          1198.0                                      3.02   \n",
       "\n",
       "   Average firearms per 100 people  Average total all civilian firearms  \n",
       "0                              8.6                             270000.0  \n",
       "1                              7.6                            1900000.0  \n",
       "2                             17.3                            2800000.0  \n",
       "3                              NaN                                  NaN  \n",
       "4                             10.2                            3950000.0  "
      ]
     },
     "execution_count": 3,
     "metadata": {},
     "output_type": "execute_result"
    }
   ],
   "source": [
    "#dropping columns\n",
    "d=df1.drop(['ISO code', 'Source', 'Rank by rate of ownership'], axis=1)\n",
    "d.head()"
   ]
  },
  {
   "cell_type": "code",
   "execution_count": 4,
   "metadata": {},
   "outputs": [
    {
     "data": {
      "text/html": [
       "<div>\n",
       "<table border=\"1\" class=\"dataframe\">\n",
       "  <thead>\n",
       "    <tr style=\"text-align: right;\">\n",
       "      <th></th>\n",
       "      <th>Country</th>\n",
       "      <th>Guns per 100 inhabitants</th>\n",
       "      <th>Number of mass shootings (1983-2013)</th>\n",
       "    </tr>\n",
       "  </thead>\n",
       "  <tbody>\n",
       "    <tr>\n",
       "      <th>0</th>\n",
       "      <td>Australia</td>\n",
       "      <td>15.0</td>\n",
       "      <td>4</td>\n",
       "    </tr>\n",
       "    <tr>\n",
       "      <th>1</th>\n",
       "      <td>Austria</td>\n",
       "      <td>30.4</td>\n",
       "      <td>1</td>\n",
       "    </tr>\n",
       "    <tr>\n",
       "      <th>2</th>\n",
       "      <td>Belgium</td>\n",
       "      <td>17.2</td>\n",
       "      <td>2</td>\n",
       "    </tr>\n",
       "    <tr>\n",
       "      <th>3</th>\n",
       "      <td>Canada</td>\n",
       "      <td>30.8</td>\n",
       "      <td>4</td>\n",
       "    </tr>\n",
       "    <tr>\n",
       "      <th>4</th>\n",
       "      <td>Denmark</td>\n",
       "      <td>12.0</td>\n",
       "      <td>0</td>\n",
       "    </tr>\n",
       "  </tbody>\n",
       "</table>\n",
       "</div>"
      ],
      "text/plain": [
       "     Country  Guns per 100 inhabitants  Number of mass shootings (1983-2013)\n",
       "0  Australia                      15.0                                     4\n",
       "1    Austria                      30.4                                     1\n",
       "2    Belgium                      17.2                                     2\n",
       "3     Canada                      30.8                                     4\n",
       "4    Denmark                      12.0                                     0"
      ]
     },
     "execution_count": 4,
     "metadata": {},
     "output_type": "execute_result"
    }
   ],
   "source": [
    "\n",
    "gs = pd.read_csv(\"data-pvLFI (1).csv\")\n",
    "#date.value_counts()\n",
    "gs.head()"
   ]
  },
  {
   "cell_type": "markdown",
   "metadata": {},
   "source": [
    "## GDP DATA "
   ]
  },
  {
   "cell_type": "code",
   "execution_count": 5,
   "metadata": {},
   "outputs": [
    {
     "name": "stdout",
     "output_type": "stream",
     "text": [
      "Archive:  Data_Extract_From_World_Development_Indicators.zip\r\n",
      "  inflating: 5bac47c7-7800-4ab0-b70e-684ae28dba01_Data.csv  \r\n",
      "  inflating: 5bac47c7-7800-4ab0-b70e-684ae28dba01_Definition and Source.csv  \r\n"
     ]
    }
   ],
   "source": [
    "!unzip -o Data_Extract_From_World_Development_Indicators.zip\n",
    "# GDP FILES "
   ]
  },
  {
   "cell_type": "code",
   "execution_count": 6,
   "metadata": {},
   "outputs": [
    {
     "data": {
      "text/html": [
       "<div>\n",
       "<table border=\"1\" class=\"dataframe\">\n",
       "  <thead>\n",
       "    <tr style=\"text-align: right;\">\n",
       "      <th></th>\n",
       "      <th>﻿Series Name</th>\n",
       "      <th>Series Code</th>\n",
       "      <th>Country Name</th>\n",
       "      <th>Country Code</th>\n",
       "      <th>1990 [YR1990]</th>\n",
       "      <th>2000 [YR2000]</th>\n",
       "      <th>2008 [YR2008]</th>\n",
       "      <th>2009 [YR2009]</th>\n",
       "      <th>2010 [YR2010]</th>\n",
       "      <th>2011 [YR2011]</th>\n",
       "      <th>2012 [YR2012]</th>\n",
       "      <th>2013 [YR2013]</th>\n",
       "      <th>2014 [YR2014]</th>\n",
       "      <th>2015 [YR2015]</th>\n",
       "      <th>2016 [YR2016]</th>\n",
       "      <th>2017 [YR2017]</th>\n",
       "    </tr>\n",
       "  </thead>\n",
       "  <tbody>\n",
       "    <tr>\n",
       "      <th>0</th>\n",
       "      <td>GDP (current US$)</td>\n",
       "      <td>NY.GDP.MKTP.CD</td>\n",
       "      <td>Afghanistan</td>\n",
       "      <td>AFG</td>\n",
       "      <td>..</td>\n",
       "      <td>..</td>\n",
       "      <td>10190529882.4878</td>\n",
       "      <td>12486943505.7381</td>\n",
       "      <td>15936800636.2487</td>\n",
       "      <td>17930239399.8149</td>\n",
       "      <td>20536542736.7297</td>\n",
       "      <td>20264253973.7858</td>\n",
       "      <td>20616104298.4975</td>\n",
       "      <td>19215562179.0117</td>\n",
       "      <td>19469022207.6852</td>\n",
       "      <td>20815300220.0428</td>\n",
       "    </tr>\n",
       "    <tr>\n",
       "      <th>1</th>\n",
       "      <td>GDP (current US$)</td>\n",
       "      <td>NY.GDP.MKTP.CD</td>\n",
       "      <td>Albania</td>\n",
       "      <td>ALB</td>\n",
       "      <td>2101624962.5</td>\n",
       "      <td>3632043907.97733</td>\n",
       "      <td>12881352687.7773</td>\n",
       "      <td>12044212903.8168</td>\n",
       "      <td>11926953258.916</td>\n",
       "      <td>12890867538.5302</td>\n",
       "      <td>12319784787.2987</td>\n",
       "      <td>12776277515.48</td>\n",
       "      <td>13228244357.1813</td>\n",
       "      <td>11386931489.7968</td>\n",
       "      <td>11883682170.8236</td>\n",
       "      <td>13039352743.9616</td>\n",
       "    </tr>\n",
       "    <tr>\n",
       "      <th>2</th>\n",
       "      <td>GDP (current US$)</td>\n",
       "      <td>NY.GDP.MKTP.CD</td>\n",
       "      <td>Algeria</td>\n",
       "      <td>DZA</td>\n",
       "      <td>62045099642.7774</td>\n",
       "      <td>54790245600.5846</td>\n",
       "      <td>171000691877.714</td>\n",
       "      <td>137211039898.193</td>\n",
       "      <td>161207268655.392</td>\n",
       "      <td>200019057307.655</td>\n",
       "      <td>209058991952.125</td>\n",
       "      <td>209755003250.664</td>\n",
       "      <td>213810022462.428</td>\n",
       "      <td>165874330876.321</td>\n",
       "      <td>159049096745.249</td>\n",
       "      <td>170370810917.971</td>\n",
       "    </tr>\n",
       "    <tr>\n",
       "      <th>3</th>\n",
       "      <td>GDP (current US$)</td>\n",
       "      <td>NY.GDP.MKTP.CD</td>\n",
       "      <td>American Samoa</td>\n",
       "      <td>ASM</td>\n",
       "      <td>..</td>\n",
       "      <td>..</td>\n",
       "      <td>563000000</td>\n",
       "      <td>678000000</td>\n",
       "      <td>576000000</td>\n",
       "      <td>574000000</td>\n",
       "      <td>644000000</td>\n",
       "      <td>641000000</td>\n",
       "      <td>643000000</td>\n",
       "      <td>659000000</td>\n",
       "      <td>658000000</td>\n",
       "      <td>..</td>\n",
       "    </tr>\n",
       "    <tr>\n",
       "      <th>4</th>\n",
       "      <td>GDP (current US$)</td>\n",
       "      <td>NY.GDP.MKTP.CD</td>\n",
       "      <td>Andorra</td>\n",
       "      <td>AND</td>\n",
       "      <td>1029048481.88051</td>\n",
       "      <td>1434429703.33518</td>\n",
       "      <td>4007353156.58415</td>\n",
       "      <td>3660530702.97305</td>\n",
       "      <td>3355695364.23841</td>\n",
       "      <td>3442062830.13622</td>\n",
       "      <td>3164615186.94591</td>\n",
       "      <td>3281585236.32501</td>\n",
       "      <td>3350736367.25488</td>\n",
       "      <td>2811489408.89431</td>\n",
       "      <td>2877311946.90265</td>\n",
       "      <td>3012914131.16971</td>\n",
       "    </tr>\n",
       "  </tbody>\n",
       "</table>\n",
       "</div>"
      ],
      "text/plain": [
       "        ﻿Series Name     Series Code    Country Name Country Code  \\\n",
       "0  GDP (current US$)  NY.GDP.MKTP.CD     Afghanistan          AFG   \n",
       "1  GDP (current US$)  NY.GDP.MKTP.CD         Albania          ALB   \n",
       "2  GDP (current US$)  NY.GDP.MKTP.CD         Algeria          DZA   \n",
       "3  GDP (current US$)  NY.GDP.MKTP.CD  American Samoa          ASM   \n",
       "4  GDP (current US$)  NY.GDP.MKTP.CD         Andorra          AND   \n",
       "\n",
       "      1990 [YR1990]     2000 [YR2000]     2008 [YR2008]     2009 [YR2009]  \\\n",
       "0                ..                ..  10190529882.4878  12486943505.7381   \n",
       "1      2101624962.5  3632043907.97733  12881352687.7773  12044212903.8168   \n",
       "2  62045099642.7774  54790245600.5846  171000691877.714  137211039898.193   \n",
       "3                ..                ..         563000000         678000000   \n",
       "4  1029048481.88051  1434429703.33518  4007353156.58415  3660530702.97305   \n",
       "\n",
       "      2010 [YR2010]     2011 [YR2011]     2012 [YR2012]     2013 [YR2013]  \\\n",
       "0  15936800636.2487  17930239399.8149  20536542736.7297  20264253973.7858   \n",
       "1   11926953258.916  12890867538.5302  12319784787.2987    12776277515.48   \n",
       "2  161207268655.392  200019057307.655  209058991952.125  209755003250.664   \n",
       "3         576000000         574000000         644000000         641000000   \n",
       "4  3355695364.23841  3442062830.13622  3164615186.94591  3281585236.32501   \n",
       "\n",
       "      2014 [YR2014]     2015 [YR2015]     2016 [YR2016]     2017 [YR2017]  \n",
       "0  20616104298.4975  19215562179.0117  19469022207.6852  20815300220.0428  \n",
       "1  13228244357.1813  11386931489.7968  11883682170.8236  13039352743.9616  \n",
       "2  213810022462.428  165874330876.321  159049096745.249  170370810917.971  \n",
       "3         643000000         659000000         658000000                ..  \n",
       "4  3350736367.25488  2811489408.89431  2877311946.90265  3012914131.16971  "
      ]
     },
     "execution_count": 6,
     "metadata": {},
     "output_type": "execute_result"
    }
   ],
   "source": [
    "# Read the csv\n",
    "df2 = pd.read_csv(\"5bac47c7-7800-4ab0-b70e-684ae28dba01_Data.csv\")\n",
    "#date.value_counts()\n",
    "df2.head()"
   ]
  },
  {
   "cell_type": "code",
   "execution_count": 7,
   "metadata": {},
   "outputs": [
    {
     "data": {
      "text/html": [
       "<div>\n",
       "<table border=\"1\" class=\"dataframe\">\n",
       "  <thead>\n",
       "    <tr style=\"text-align: right;\">\n",
       "      <th></th>\n",
       "      <th>Country Name</th>\n",
       "      <th>2012 [YR2012]</th>\n",
       "    </tr>\n",
       "  </thead>\n",
       "  <tbody>\n",
       "    <tr>\n",
       "      <th>0</th>\n",
       "      <td>Afghanistan</td>\n",
       "      <td>20536542736.7297</td>\n",
       "    </tr>\n",
       "    <tr>\n",
       "      <th>1</th>\n",
       "      <td>Albania</td>\n",
       "      <td>12319784787.2987</td>\n",
       "    </tr>\n",
       "    <tr>\n",
       "      <th>2</th>\n",
       "      <td>Algeria</td>\n",
       "      <td>209058991952.125</td>\n",
       "    </tr>\n",
       "    <tr>\n",
       "      <th>3</th>\n",
       "      <td>American Samoa</td>\n",
       "      <td>644000000</td>\n",
       "    </tr>\n",
       "    <tr>\n",
       "      <th>4</th>\n",
       "      <td>Andorra</td>\n",
       "      <td>3164615186.94591</td>\n",
       "    </tr>\n",
       "  </tbody>\n",
       "</table>\n",
       "</div>"
      ],
      "text/plain": [
       "     Country Name     2012 [YR2012]\n",
       "0     Afghanistan  20536542736.7297\n",
       "1         Albania  12319784787.2987\n",
       "2         Algeria  209058991952.125\n",
       "3  American Samoa         644000000\n",
       "4         Andorra  3164615186.94591"
      ]
     },
     "execution_count": 7,
     "metadata": {},
     "output_type": "execute_result"
    }
   ],
   "source": [
    "ms1= df2[['Country Name','2012 [YR2012]']]\n",
    "ms1.head()"
   ]
  },
  {
   "cell_type": "code",
   "execution_count": 8,
   "metadata": {},
   "outputs": [
    {
     "name": "stdout",
     "output_type": "stream",
     "text": [
      "Archive:  Data_Extract_From_World_Development_Indicators_pop.zip\r\n",
      "  inflating: 445a04e7-7cb5-4c68-8f01-c2deabfb9814_Data.csv  \r\n",
      "  inflating: 445a04e7-7cb5-4c68-8f01-c2deabfb9814_Definition and Source.csv  \r\n"
     ]
    }
   ],
   "source": [
    "!unzip -o Data_Extract_From_World_Development_Indicators_pop.zip\n",
    "# GDP FILES "
   ]
  },
  {
   "cell_type": "code",
   "execution_count": 9,
   "metadata": {},
   "outputs": [
    {
     "data": {
      "text/html": [
       "<div>\n",
       "<table border=\"1\" class=\"dataframe\">\n",
       "  <thead>\n",
       "    <tr style=\"text-align: right;\">\n",
       "      <th></th>\n",
       "      <th>﻿Series Name</th>\n",
       "      <th>Series Code</th>\n",
       "      <th>Country Name</th>\n",
       "      <th>Country Code</th>\n",
       "      <th>1990 [YR1990]</th>\n",
       "      <th>2000 [YR2000]</th>\n",
       "      <th>2008 [YR2008]</th>\n",
       "      <th>2009 [YR2009]</th>\n",
       "      <th>2010 [YR2010]</th>\n",
       "      <th>2011 [YR2011]</th>\n",
       "      <th>2012 [YR2012]</th>\n",
       "      <th>2013 [YR2013]</th>\n",
       "      <th>2014 [YR2014]</th>\n",
       "      <th>2015 [YR2015]</th>\n",
       "      <th>2016 [YR2016]</th>\n",
       "      <th>2017 [YR2017]</th>\n",
       "    </tr>\n",
       "  </thead>\n",
       "  <tbody>\n",
       "    <tr>\n",
       "      <th>0</th>\n",
       "      <td>Population, total</td>\n",
       "      <td>SP.POP.TOTL</td>\n",
       "      <td>Afghanistan</td>\n",
       "      <td>AFG</td>\n",
       "      <td>12249114</td>\n",
       "      <td>20093756</td>\n",
       "      <td>27294031</td>\n",
       "      <td>28004331</td>\n",
       "      <td>28803167</td>\n",
       "      <td>29708599</td>\n",
       "      <td>30696958</td>\n",
       "      <td>31731688</td>\n",
       "      <td>32758020</td>\n",
       "      <td>33736494</td>\n",
       "      <td>34656032</td>\n",
       "      <td>35530081</td>\n",
       "    </tr>\n",
       "    <tr>\n",
       "      <th>1</th>\n",
       "      <td>Population, total</td>\n",
       "      <td>SP.POP.TOTL</td>\n",
       "      <td>Albania</td>\n",
       "      <td>ALB</td>\n",
       "      <td>3286542</td>\n",
       "      <td>3089027</td>\n",
       "      <td>2947314</td>\n",
       "      <td>2927519</td>\n",
       "      <td>2913021</td>\n",
       "      <td>2905195</td>\n",
       "      <td>2900401</td>\n",
       "      <td>2895092</td>\n",
       "      <td>2889104</td>\n",
       "      <td>2880703</td>\n",
       "      <td>2876101</td>\n",
       "      <td>2873457</td>\n",
       "    </tr>\n",
       "    <tr>\n",
       "      <th>2</th>\n",
       "      <td>Population, total</td>\n",
       "      <td>SP.POP.TOTL</td>\n",
       "      <td>Algeria</td>\n",
       "      <td>DZA</td>\n",
       "      <td>25912367</td>\n",
       "      <td>31183660</td>\n",
       "      <td>34860715</td>\n",
       "      <td>35465760</td>\n",
       "      <td>36117637</td>\n",
       "      <td>36819558</td>\n",
       "      <td>37565847</td>\n",
       "      <td>38338562</td>\n",
       "      <td>39113313</td>\n",
       "      <td>39871528</td>\n",
       "      <td>40606052</td>\n",
       "      <td>41318142</td>\n",
       "    </tr>\n",
       "    <tr>\n",
       "      <th>3</th>\n",
       "      <td>Population, total</td>\n",
       "      <td>SP.POP.TOTL</td>\n",
       "      <td>American Samoa</td>\n",
       "      <td>ASM</td>\n",
       "      <td>47038</td>\n",
       "      <td>57521</td>\n",
       "      <td>57030</td>\n",
       "      <td>56227</td>\n",
       "      <td>55637</td>\n",
       "      <td>55320</td>\n",
       "      <td>55230</td>\n",
       "      <td>55307</td>\n",
       "      <td>55437</td>\n",
       "      <td>55537</td>\n",
       "      <td>55599</td>\n",
       "      <td>55641</td>\n",
       "    </tr>\n",
       "    <tr>\n",
       "      <th>4</th>\n",
       "      <td>Population, total</td>\n",
       "      <td>SP.POP.TOTL</td>\n",
       "      <td>Andorra</td>\n",
       "      <td>AND</td>\n",
       "      <td>54509</td>\n",
       "      <td>65390</td>\n",
       "      <td>83861</td>\n",
       "      <td>84462</td>\n",
       "      <td>84449</td>\n",
       "      <td>83751</td>\n",
       "      <td>82431</td>\n",
       "      <td>80788</td>\n",
       "      <td>79223</td>\n",
       "      <td>78014</td>\n",
       "      <td>77281</td>\n",
       "      <td>76965</td>\n",
       "    </tr>\n",
       "  </tbody>\n",
       "</table>\n",
       "</div>"
      ],
      "text/plain": [
       "        ﻿Series Name  Series Code    Country Name Country Code 1990 [YR1990]  \\\n",
       "0  Population, total  SP.POP.TOTL     Afghanistan          AFG      12249114   \n",
       "1  Population, total  SP.POP.TOTL         Albania          ALB       3286542   \n",
       "2  Population, total  SP.POP.TOTL         Algeria          DZA      25912367   \n",
       "3  Population, total  SP.POP.TOTL  American Samoa          ASM         47038   \n",
       "4  Population, total  SP.POP.TOTL         Andorra          AND         54509   \n",
       "\n",
       "  2000 [YR2000] 2008 [YR2008] 2009 [YR2009] 2010 [YR2010] 2011 [YR2011]  \\\n",
       "0      20093756      27294031      28004331      28803167      29708599   \n",
       "1       3089027       2947314       2927519       2913021       2905195   \n",
       "2      31183660      34860715      35465760      36117637      36819558   \n",
       "3         57521         57030         56227         55637         55320   \n",
       "4         65390         83861         84462         84449         83751   \n",
       "\n",
       "  2012 [YR2012] 2013 [YR2013] 2014 [YR2014] 2015 [YR2015] 2016 [YR2016]  \\\n",
       "0      30696958      31731688      32758020      33736494      34656032   \n",
       "1       2900401       2895092       2889104       2880703       2876101   \n",
       "2      37565847      38338562      39113313      39871528      40606052   \n",
       "3         55230         55307         55437         55537         55599   \n",
       "4         82431         80788         79223         78014         77281   \n",
       "\n",
       "  2017 [YR2017]  \n",
       "0      35530081  \n",
       "1       2873457  \n",
       "2      41318142  \n",
       "3         55641  \n",
       "4         76965  "
      ]
     },
     "execution_count": 9,
     "metadata": {},
     "output_type": "execute_result"
    }
   ],
   "source": [
    "# Read the csv\n",
    "df3 = pd.read_csv(\"445a04e7-7cb5-4c68-8f01-c2deabfb9814_Data.csv\")\n",
    "#date.value_counts()\n",
    "df3.head()"
   ]
  },
  {
   "cell_type": "code",
   "execution_count": 10,
   "metadata": {},
   "outputs": [
    {
     "data": {
      "text/html": [
       "<div>\n",
       "<table border=\"1\" class=\"dataframe\">\n",
       "  <thead>\n",
       "    <tr style=\"text-align: right;\">\n",
       "      <th></th>\n",
       "      <th>Country Name</th>\n",
       "      <th>2012 [YR2012]</th>\n",
       "    </tr>\n",
       "  </thead>\n",
       "  <tbody>\n",
       "    <tr>\n",
       "      <th>0</th>\n",
       "      <td>Afghanistan</td>\n",
       "      <td>30696958</td>\n",
       "    </tr>\n",
       "    <tr>\n",
       "      <th>1</th>\n",
       "      <td>Albania</td>\n",
       "      <td>2900401</td>\n",
       "    </tr>\n",
       "    <tr>\n",
       "      <th>2</th>\n",
       "      <td>Algeria</td>\n",
       "      <td>37565847</td>\n",
       "    </tr>\n",
       "    <tr>\n",
       "      <th>3</th>\n",
       "      <td>American Samoa</td>\n",
       "      <td>55230</td>\n",
       "    </tr>\n",
       "    <tr>\n",
       "      <th>4</th>\n",
       "      <td>Andorra</td>\n",
       "      <td>82431</td>\n",
       "    </tr>\n",
       "  </tbody>\n",
       "</table>\n",
       "</div>"
      ],
      "text/plain": [
       "     Country Name 2012 [YR2012]\n",
       "0     Afghanistan      30696958\n",
       "1         Albania       2900401\n",
       "2         Algeria      37565847\n",
       "3  American Samoa         55230\n",
       "4         Andorra         82431"
      ]
     },
     "execution_count": 10,
     "metadata": {},
     "output_type": "execute_result"
    }
   ],
   "source": [
    "ms= df3[['Country Name','2012 [YR2012]']]\n",
    "ms.head()"
   ]
  },
  {
   "cell_type": "code",
   "execution_count": 11,
   "metadata": {
    "ExecuteTime": {
     "end_time": "2017-10-12T11:18:40.575581",
     "start_time": "2017-10-12T11:18:40.446116"
    },
    "run_control": {
     "frozen": false,
     "read_only": false
    }
   },
   "outputs": [
    {
     "data": {
      "text/html": [
       "<div>\n",
       "<table border=\"1\" class=\"dataframe\">\n",
       "  <thead>\n",
       "    <tr style=\"text-align: right;\">\n",
       "      <th></th>\n",
       "      <th>Country Name</th>\n",
       "      <th>2012 [YR2012]_x</th>\n",
       "      <th>2012 [YR2012]_y</th>\n",
       "    </tr>\n",
       "  </thead>\n",
       "  <tbody>\n",
       "    <tr>\n",
       "      <th>0</th>\n",
       "      <td>Afghanistan</td>\n",
       "      <td>20536542736.7297</td>\n",
       "      <td>30696958</td>\n",
       "    </tr>\n",
       "    <tr>\n",
       "      <th>1</th>\n",
       "      <td>Albania</td>\n",
       "      <td>12319784787.2987</td>\n",
       "      <td>2900401</td>\n",
       "    </tr>\n",
       "    <tr>\n",
       "      <th>2</th>\n",
       "      <td>Algeria</td>\n",
       "      <td>209058991952.125</td>\n",
       "      <td>37565847</td>\n",
       "    </tr>\n",
       "    <tr>\n",
       "      <th>3</th>\n",
       "      <td>American Samoa</td>\n",
       "      <td>644000000</td>\n",
       "      <td>55230</td>\n",
       "    </tr>\n",
       "    <tr>\n",
       "      <th>4</th>\n",
       "      <td>Andorra</td>\n",
       "      <td>3164615186.94591</td>\n",
       "      <td>82431</td>\n",
       "    </tr>\n",
       "  </tbody>\n",
       "</table>\n",
       "</div>"
      ],
      "text/plain": [
       "     Country Name   2012 [YR2012]_x 2012 [YR2012]_y\n",
       "0     Afghanistan  20536542736.7297        30696958\n",
       "1         Albania  12319784787.2987         2900401\n",
       "2         Algeria  209058991952.125        37565847\n",
       "3  American Samoa         644000000           55230\n",
       "4         Andorra  3164615186.94591           82431"
      ]
     },
     "execution_count": 11,
     "metadata": {},
     "output_type": "execute_result"
    }
   ],
   "source": [
    "#pandas merge multiple data\n",
    "df = ms1.merge(ms, left_on=\"Country Name\", right_on=\"Country Name\")\n",
    "df.head()"
   ]
  },
  {
   "cell_type": "code",
   "execution_count": 12,
   "metadata": {},
   "outputs": [
    {
     "data": {
      "text/html": [
       "<div>\n",
       "<table border=\"1\" class=\"dataframe\">\n",
       "  <thead>\n",
       "    <tr style=\"text-align: right;\">\n",
       "      <th></th>\n",
       "      <th>Country Name</th>\n",
       "      <th>gdp</th>\n",
       "      <th>2012 [YR2012]_y</th>\n",
       "    </tr>\n",
       "  </thead>\n",
       "  <tbody>\n",
       "    <tr>\n",
       "      <th>0</th>\n",
       "      <td>Afghanistan</td>\n",
       "      <td>20536542736.7297</td>\n",
       "      <td>30696958</td>\n",
       "    </tr>\n",
       "    <tr>\n",
       "      <th>1</th>\n",
       "      <td>Albania</td>\n",
       "      <td>12319784787.2987</td>\n",
       "      <td>2900401</td>\n",
       "    </tr>\n",
       "    <tr>\n",
       "      <th>2</th>\n",
       "      <td>Algeria</td>\n",
       "      <td>209058991952.125</td>\n",
       "      <td>37565847</td>\n",
       "    </tr>\n",
       "    <tr>\n",
       "      <th>3</th>\n",
       "      <td>American Samoa</td>\n",
       "      <td>644000000</td>\n",
       "      <td>55230</td>\n",
       "    </tr>\n",
       "    <tr>\n",
       "      <th>4</th>\n",
       "      <td>Andorra</td>\n",
       "      <td>3164615186.94591</td>\n",
       "      <td>82431</td>\n",
       "    </tr>\n",
       "  </tbody>\n",
       "</table>\n",
       "</div>"
      ],
      "text/plain": [
       "     Country Name               gdp 2012 [YR2012]_y\n",
       "0     Afghanistan  20536542736.7297        30696958\n",
       "1         Albania  12319784787.2987         2900401\n",
       "2         Algeria  209058991952.125        37565847\n",
       "3  American Samoa         644000000           55230\n",
       "4         Andorra  3164615186.94591           82431"
      ]
     },
     "execution_count": 12,
     "metadata": {},
     "output_type": "execute_result"
    }
   ],
   "source": [
    "#rename column\n",
    "df.rename(columns={\"2012 [YR2012]_x\":\"gdp\"},inplace=True)\n",
    "df.head()"
   ]
  },
  {
   "cell_type": "code",
   "execution_count": 13,
   "metadata": {},
   "outputs": [
    {
     "data": {
      "text/html": [
       "<div>\n",
       "<table border=\"1\" class=\"dataframe\">\n",
       "  <thead>\n",
       "    <tr style=\"text-align: right;\">\n",
       "      <th></th>\n",
       "      <th>Country Name</th>\n",
       "      <th>gdp</th>\n",
       "      <th>pop</th>\n",
       "    </tr>\n",
       "  </thead>\n",
       "  <tbody>\n",
       "    <tr>\n",
       "      <th>0</th>\n",
       "      <td>Afghanistan</td>\n",
       "      <td>20536542736.7297</td>\n",
       "      <td>30696958</td>\n",
       "    </tr>\n",
       "    <tr>\n",
       "      <th>1</th>\n",
       "      <td>Albania</td>\n",
       "      <td>12319784787.2987</td>\n",
       "      <td>2900401</td>\n",
       "    </tr>\n",
       "    <tr>\n",
       "      <th>2</th>\n",
       "      <td>Algeria</td>\n",
       "      <td>209058991952.125</td>\n",
       "      <td>37565847</td>\n",
       "    </tr>\n",
       "    <tr>\n",
       "      <th>3</th>\n",
       "      <td>American Samoa</td>\n",
       "      <td>644000000</td>\n",
       "      <td>55230</td>\n",
       "    </tr>\n",
       "    <tr>\n",
       "      <th>4</th>\n",
       "      <td>Andorra</td>\n",
       "      <td>3164615186.94591</td>\n",
       "      <td>82431</td>\n",
       "    </tr>\n",
       "  </tbody>\n",
       "</table>\n",
       "</div>"
      ],
      "text/plain": [
       "     Country Name               gdp       pop\n",
       "0     Afghanistan  20536542736.7297  30696958\n",
       "1         Albania  12319784787.2987   2900401\n",
       "2         Algeria  209058991952.125  37565847\n",
       "3  American Samoa         644000000     55230\n",
       "4         Andorra  3164615186.94591     82431"
      ]
     },
     "execution_count": 13,
     "metadata": {},
     "output_type": "execute_result"
    }
   ],
   "source": [
    "#rename column\n",
    "df.rename(columns={\"2012 [YR2012]_y\":\"pop\"},inplace=True)\n",
    "df.head()"
   ]
  },
  {
   "cell_type": "code",
   "execution_count": 14,
   "metadata": {},
   "outputs": [
    {
     "data": {
      "text/html": [
       "<div>\n",
       "<table border=\"1\" class=\"dataframe\">\n",
       "  <thead>\n",
       "    <tr style=\"text-align: right;\">\n",
       "      <th></th>\n",
       "      <th>Country Name</th>\n",
       "      <th>gdp</th>\n",
       "      <th>pop</th>\n",
       "    </tr>\n",
       "  </thead>\n",
       "  <tbody>\n",
       "    <tr>\n",
       "      <th>0</th>\n",
       "      <td>Afghanistan</td>\n",
       "      <td>20536542736.7297</td>\n",
       "      <td>30696958</td>\n",
       "    </tr>\n",
       "    <tr>\n",
       "      <th>1</th>\n",
       "      <td>Albania</td>\n",
       "      <td>12319784787.2987</td>\n",
       "      <td>2900401</td>\n",
       "    </tr>\n",
       "  </tbody>\n",
       "</table>\n",
       "</div>"
      ],
      "text/plain": [
       "  Country Name               gdp       pop\n",
       "0  Afghanistan  20536542736.7297  30696958\n",
       "1      Albania  12319784787.2987   2900401"
      ]
     },
     "metadata": {},
     "output_type": "display_data"
    },
    {
     "data": {
      "text/html": [
       "<div>\n",
       "<table border=\"1\" class=\"dataframe\">\n",
       "  <thead>\n",
       "    <tr style=\"text-align: right;\">\n",
       "      <th></th>\n",
       "      <th>Country/Territory</th>\n",
       "      <th>% of homicides by firearm</th>\n",
       "      <th>Number of homicides by firearm</th>\n",
       "      <th>Homicide by firearm rate per 100,000 pop</th>\n",
       "      <th>Average firearms per 100 people</th>\n",
       "      <th>Average total all civilian firearms</th>\n",
       "    </tr>\n",
       "  </thead>\n",
       "  <tbody>\n",
       "    <tr>\n",
       "      <th>0</th>\n",
       "      <td>Albania</td>\n",
       "      <td>65.9</td>\n",
       "      <td>56.0</td>\n",
       "      <td>1.76</td>\n",
       "      <td>8.6</td>\n",
       "      <td>270000.0</td>\n",
       "    </tr>\n",
       "    <tr>\n",
       "      <th>1</th>\n",
       "      <td>Algeria</td>\n",
       "      <td>4.8</td>\n",
       "      <td>20.0</td>\n",
       "      <td>0.06</td>\n",
       "      <td>7.6</td>\n",
       "      <td>1900000.0</td>\n",
       "    </tr>\n",
       "  </tbody>\n",
       "</table>\n",
       "</div>"
      ],
      "text/plain": [
       "  Country/Territory  % of homicides by firearm  \\\n",
       "0           Albania                       65.9   \n",
       "1           Algeria                        4.8   \n",
       "\n",
       "   Number of homicides by firearm  Homicide by firearm rate per 100,000 pop  \\\n",
       "0                            56.0                                      1.76   \n",
       "1                            20.0                                      0.06   \n",
       "\n",
       "   Average firearms per 100 people  Average total all civilian firearms  \n",
       "0                              8.6                             270000.0  \n",
       "1                              7.6                            1900000.0  "
      ]
     },
     "metadata": {},
     "output_type": "display_data"
    },
    {
     "data": {
      "text/html": [
       "<div>\n",
       "<table border=\"1\" class=\"dataframe\">\n",
       "  <thead>\n",
       "    <tr style=\"text-align: right;\">\n",
       "      <th></th>\n",
       "      <th>Country</th>\n",
       "      <th>Guns per 100 inhabitants</th>\n",
       "      <th>Number of mass shootings (1983-2013)</th>\n",
       "    </tr>\n",
       "  </thead>\n",
       "  <tbody>\n",
       "    <tr>\n",
       "      <th>0</th>\n",
       "      <td>Australia</td>\n",
       "      <td>15.0</td>\n",
       "      <td>4</td>\n",
       "    </tr>\n",
       "    <tr>\n",
       "      <th>1</th>\n",
       "      <td>Austria</td>\n",
       "      <td>30.4</td>\n",
       "      <td>1</td>\n",
       "    </tr>\n",
       "  </tbody>\n",
       "</table>\n",
       "</div>"
      ],
      "text/plain": [
       "     Country  Guns per 100 inhabitants  Number of mass shootings (1983-2013)\n",
       "0  Australia                      15.0                                     4\n",
       "1    Austria                      30.4                                     1"
      ]
     },
     "metadata": {},
     "output_type": "display_data"
    }
   ],
   "source": [
    "from IPython.display import display\n",
    "display(df.head(2))\n",
    "display(d.head(2))\n",
    "display(gs.head(2))"
   ]
  },
  {
   "cell_type": "code",
   "execution_count": 15,
   "metadata": {},
   "outputs": [
    {
     "data": {
      "text/plain": [
       "(185, 6)"
      ]
     },
     "metadata": {},
     "output_type": "display_data"
    },
    {
     "data": {
      "text/plain": [
       "(289, 3)"
      ]
     },
     "metadata": {},
     "output_type": "display_data"
    },
    {
     "data": {
      "text/plain": [
       "(25, 3)"
      ]
     },
     "metadata": {},
     "output_type": "display_data"
    }
   ],
   "source": [
    "display(d.shape)\n",
    "display(df.shape)\n",
    "display(gs.shape)"
   ]
  },
  {
   "cell_type": "code",
   "execution_count": 16,
   "metadata": {},
   "outputs": [
    {
     "data": {
      "text/html": [
       "<div>\n",
       "<table border=\"1\" class=\"dataframe\">\n",
       "  <thead>\n",
       "    <tr style=\"text-align: right;\">\n",
       "      <th></th>\n",
       "      <th>Country</th>\n",
       "      <th>Guns per 100 inhabitants</th>\n",
       "      <th>Number of mass shootings (1983-2013)</th>\n",
       "      <th>Country Name</th>\n",
       "      <th>gdp</th>\n",
       "      <th>pop</th>\n",
       "      <th>Country/Territory</th>\n",
       "      <th>% of homicides by firearm</th>\n",
       "      <th>Number of homicides by firearm</th>\n",
       "      <th>Homicide by firearm rate per 100,000 pop</th>\n",
       "      <th>Average firearms per 100 people</th>\n",
       "      <th>Average total all civilian firearms</th>\n",
       "    </tr>\n",
       "  </thead>\n",
       "  <tbody>\n",
       "    <tr>\n",
       "      <th>0</th>\n",
       "      <td>Australia</td>\n",
       "      <td>15.0</td>\n",
       "      <td>4</td>\n",
       "      <td>Australia</td>\n",
       "      <td>1543411012579.91</td>\n",
       "      <td>22742475</td>\n",
       "      <td>Australia</td>\n",
       "      <td>11.5</td>\n",
       "      <td>30.0</td>\n",
       "      <td>0.14</td>\n",
       "      <td>15.0</td>\n",
       "      <td>3050000.0</td>\n",
       "    </tr>\n",
       "    <tr>\n",
       "      <th>1</th>\n",
       "      <td>Austria</td>\n",
       "      <td>30.4</td>\n",
       "      <td>1</td>\n",
       "      <td>Austria</td>\n",
       "      <td>409425234155.263</td>\n",
       "      <td>8429991</td>\n",
       "      <td>Austria</td>\n",
       "      <td>29.5</td>\n",
       "      <td>18.0</td>\n",
       "      <td>0.22</td>\n",
       "      <td>30.4</td>\n",
       "      <td>2500000.0</td>\n",
       "    </tr>\n",
       "    <tr>\n",
       "      <th>2</th>\n",
       "      <td>Belgium</td>\n",
       "      <td>17.2</td>\n",
       "      <td>2</td>\n",
       "      <td>Belgium</td>\n",
       "      <td>497884216568.867</td>\n",
       "      <td>11128246</td>\n",
       "      <td>Belgium</td>\n",
       "      <td>39.5</td>\n",
       "      <td>70.0</td>\n",
       "      <td>0.68</td>\n",
       "      <td>17.2</td>\n",
       "      <td>1800000.0</td>\n",
       "    </tr>\n",
       "    <tr>\n",
       "      <th>3</th>\n",
       "      <td>Canada</td>\n",
       "      <td>30.8</td>\n",
       "      <td>4</td>\n",
       "      <td>Canada</td>\n",
       "      <td>1824288757447.57</td>\n",
       "      <td>34750545</td>\n",
       "      <td>Canada</td>\n",
       "      <td>32.0</td>\n",
       "      <td>173.0</td>\n",
       "      <td>0.51</td>\n",
       "      <td>30.8</td>\n",
       "      <td>9950000.0</td>\n",
       "    </tr>\n",
       "    <tr>\n",
       "      <th>4</th>\n",
       "      <td>Denmark</td>\n",
       "      <td>12.0</td>\n",
       "      <td>0</td>\n",
       "      <td>Denmark</td>\n",
       "      <td>327148899962.146</td>\n",
       "      <td>5591572</td>\n",
       "      <td>Denmark</td>\n",
       "      <td>31.9</td>\n",
       "      <td>15.0</td>\n",
       "      <td>0.27</td>\n",
       "      <td>12.0</td>\n",
       "      <td>650000.0</td>\n",
       "    </tr>\n",
       "  </tbody>\n",
       "</table>\n",
       "</div>"
      ],
      "text/plain": [
       "     Country  Guns per 100 inhabitants  Number of mass shootings (1983-2013)  \\\n",
       "0  Australia                      15.0                                     4   \n",
       "1    Austria                      30.4                                     1   \n",
       "2    Belgium                      17.2                                     2   \n",
       "3     Canada                      30.8                                     4   \n",
       "4    Denmark                      12.0                                     0   \n",
       "\n",
       "  Country Name               gdp       pop Country/Territory  \\\n",
       "0    Australia  1543411012579.91  22742475         Australia   \n",
       "1      Austria  409425234155.263   8429991           Austria   \n",
       "2      Belgium  497884216568.867  11128246           Belgium   \n",
       "3       Canada  1824288757447.57  34750545            Canada   \n",
       "4      Denmark  327148899962.146   5591572           Denmark   \n",
       "\n",
       "   % of homicides by firearm  Number of homicides by firearm  \\\n",
       "0                       11.5                            30.0   \n",
       "1                       29.5                            18.0   \n",
       "2                       39.5                            70.0   \n",
       "3                       32.0                           173.0   \n",
       "4                       31.9                            15.0   \n",
       "\n",
       "   Homicide by firearm rate per 100,000 pop  Average firearms per 100 people  \\\n",
       "0                                      0.14                             15.0   \n",
       "1                                      0.22                             30.4   \n",
       "2                                      0.68                             17.2   \n",
       "3                                      0.51                             30.8   \n",
       "4                                      0.27                             12.0   \n",
       "\n",
       "   Average total all civilian firearms  \n",
       "0                            3050000.0  \n",
       "1                            2500000.0  \n",
       "2                            1800000.0  \n",
       "3                            9950000.0  \n",
       "4                             650000.0  "
      ]
     },
     "execution_count": 16,
     "metadata": {},
     "output_type": "execute_result"
    }
   ],
   "source": [
    "#merge multiple data frames\n",
    "\n",
    "df_merged = gs.merge(df, left_on=\"Country\", right_on=\"Country Name\", how='left')\n",
    "df_merged = df_merged.merge (d, left_on='Country Name', right_on= \"Country/Territory\", how='left')\n",
    "df_merged.head()"
   ]
  },
  {
   "cell_type": "code",
   "execution_count": 17,
   "metadata": {},
   "outputs": [
    {
     "data": {
      "text/plain": [
       "Index(['Country Name', 'gdp', 'pop'], dtype='object')"
      ]
     },
     "execution_count": 17,
     "metadata": {},
     "output_type": "execute_result"
    }
   ],
   "source": [
    "df.columns"
   ]
  },
  {
   "cell_type": "markdown",
   "metadata": {
    "run_control": {
     "frozen": false,
     "read_only": false
    }
   },
   "source": [
    "# 2. Exploration\n",
    "\n",
    "## 1. plot mass shooting vs gdp in absolute numbers, and per person. Show the errorbars (y errors)\n",
    "\n",
    "Use Poisson statistics for the errorbars on the number of mass shootings (optional: include errors on the population, also as Poisson statistics)\n",
    "\n",
    "Are there any points that look like they may be outilers?\n"
   ]
  },
  {
   "cell_type": "code",
   "execution_count": 18,
   "metadata": {},
   "outputs": [
    {
     "data": {
      "text/html": [
       "<div>\n",
       "<table border=\"1\" class=\"dataframe\">\n",
       "  <thead>\n",
       "    <tr style=\"text-align: right;\">\n",
       "      <th></th>\n",
       "      <th>Country Name</th>\n",
       "      <th>gdp</th>\n",
       "      <th>pop</th>\n",
       "    </tr>\n",
       "  </thead>\n",
       "  <tbody>\n",
       "    <tr>\n",
       "      <th>0</th>\n",
       "      <td>Afghanistan</td>\n",
       "      <td>20536542736.7297</td>\n",
       "      <td>30696958</td>\n",
       "    </tr>\n",
       "    <tr>\n",
       "      <th>1</th>\n",
       "      <td>Albania</td>\n",
       "      <td>12319784787.2987</td>\n",
       "      <td>2900401</td>\n",
       "    </tr>\n",
       "  </tbody>\n",
       "</table>\n",
       "</div>"
      ],
      "text/plain": [
       "  Country Name               gdp       pop\n",
       "0  Afghanistan  20536542736.7297  30696958\n",
       "1      Albania  12319784787.2987   2900401"
      ]
     },
     "execution_count": 18,
     "metadata": {},
     "output_type": "execute_result"
    }
   ],
   "source": [
    "df.head(2)"
   ]
  },
  {
   "cell_type": "code",
   "execution_count": 19,
   "metadata": {},
   "outputs": [],
   "source": [
    "df.dtypes\n",
    "df_merged['gdp'] = df_merged['gdp'].astype(float64)"
   ]
  },
  {
   "cell_type": "code",
   "execution_count": 20,
   "metadata": {
    "ExecuteTime": {
     "end_time": "2017-10-12T11:24:38.210994",
     "start_time": "2017-10-12T11:24:37.927232"
    },
    "run_control": {
     "frozen": false,
     "read_only": false
    },
    "scrolled": true
   },
   "outputs": [
    {
     "name": "stderr",
     "output_type": "stream",
     "text": [
      "/usr/local/Anaconda3-5.0.0-Linux-x86_64/envs/PUI2016_Python3/lib/python3.5/site-packages/matplotlib/font_manager.py:1316: UserWarning: findfont: Font family ['sans-serif'] not found. Falling back to DejaVu Sans\n",
      "  (prop.get_family(), self.defaultFamily[fontext]))\n"
     ]
    },
    {
     "data": {
      "image/png": "[encoded data removed]",
      "text/plain": [
       "<matplotlib.figure.Figure at 0x7fab20df37b8>"
      ]
     },
     "metadata": {},
     "output_type": "display_data"
    },
    {
     "name": "stdout",
     "output_type": "stream",
     "text": [
      "Number of mass shootings(1983-2013) vs GDP, errors represent Poisson statistics.\n",
      "The datapoint to the top right of the plot is the USA, which has noth the highest GDP and the highest number of mass shootings\n"
     ]
    }
   ],
   "source": [
    "# Number of mass shootings (1983-2013) vs GPD \n",
    "fig = pl.figure(figsize=(10,5)) \n",
    "ax = fig.add_subplot(111)\n",
    "\n",
    "scatter = ax.scatter(df_merged.gdp / 1e9, df_merged ['Number of mass shootings (1983-2013)'])\n",
    "ax.errorbar(df_merged.gdp  / 1e9, df_merged ['Number of mass shootings (1983-2013)'], \n",
    "            yerr = np.sqrt(df_merged['Number of mass shootings (1983-2013)'] * 1.0), fmt = '.')\n",
    "ax.set_xlabel(\"GDP (in billions)\")\n",
    "ax.set_ylabel(\"Number of mass shootings (1983-2013)\")\n",
    "ax.set_title('Figure 1: Number of mass shooting per peroson vs national GDP')\n",
    "ax.set_ylim()\n",
    "pl.show()\n",
    "print (\"Number of mass shootings(1983-2013) vs GDP, \" + \n",
    "       \"errors represent Poisson statistics.\\n\" + \n",
    "       \"The datapoint to the top right of the plot is the USA, \" + \n",
    "       \"which has noth the highest GDP and the highest number of mass shootings\")\n"
   ]
  },
  {
   "cell_type": "code",
   "execution_count": 21,
   "metadata": {},
   "outputs": [],
   "source": [
    "df_merged['pop'] = df_merged['pop'].astype(float64)"
   ]
  },
  {
   "cell_type": "markdown",
   "metadata": {
    "run_control": {
     "frozen": false,
     "read_only": false
    }
   },
   "source": [
    "## 2. plot the average number of civilian fire arms per person\n",
    "first without errors, then with errors. are there  points that look like outliers?"
   ]
  },
  {
   "cell_type": "code",
   "execution_count": 22,
   "metadata": {},
   "outputs": [
    {
     "data": {
      "text/html": [
       "<div>\n",
       "<table border=\"1\" class=\"dataframe\">\n",
       "  <thead>\n",
       "    <tr style=\"text-align: right;\">\n",
       "      <th></th>\n",
       "      <th>Country</th>\n",
       "      <th>Guns per 100 inhabitants</th>\n",
       "      <th>Number of mass shootings (1983-2013)</th>\n",
       "      <th>Country Name</th>\n",
       "      <th>gdp</th>\n",
       "      <th>pop</th>\n",
       "      <th>Country/Territory</th>\n",
       "      <th>% of homicides by firearm</th>\n",
       "      <th>Number of homicides by firearm</th>\n",
       "      <th>Homicide by firearm rate per 100,000 pop</th>\n",
       "      <th>Average firearms per 100 people</th>\n",
       "      <th>Average total all civilian firearms</th>\n",
       "    </tr>\n",
       "  </thead>\n",
       "  <tbody>\n",
       "    <tr>\n",
       "      <th>0</th>\n",
       "      <td>Australia</td>\n",
       "      <td>15.0</td>\n",
       "      <td>4</td>\n",
       "      <td>Australia</td>\n",
       "      <td>1.543411e+12</td>\n",
       "      <td>22742475.0</td>\n",
       "      <td>Australia</td>\n",
       "      <td>11.5</td>\n",
       "      <td>30.0</td>\n",
       "      <td>0.14</td>\n",
       "      <td>15.0</td>\n",
       "      <td>3050000.0</td>\n",
       "    </tr>\n",
       "    <tr>\n",
       "      <th>1</th>\n",
       "      <td>Austria</td>\n",
       "      <td>30.4</td>\n",
       "      <td>1</td>\n",
       "      <td>Austria</td>\n",
       "      <td>4.094252e+11</td>\n",
       "      <td>8429991.0</td>\n",
       "      <td>Austria</td>\n",
       "      <td>29.5</td>\n",
       "      <td>18.0</td>\n",
       "      <td>0.22</td>\n",
       "      <td>30.4</td>\n",
       "      <td>2500000.0</td>\n",
       "    </tr>\n",
       "    <tr>\n",
       "      <th>2</th>\n",
       "      <td>Belgium</td>\n",
       "      <td>17.2</td>\n",
       "      <td>2</td>\n",
       "      <td>Belgium</td>\n",
       "      <td>4.978842e+11</td>\n",
       "      <td>11128246.0</td>\n",
       "      <td>Belgium</td>\n",
       "      <td>39.5</td>\n",
       "      <td>70.0</td>\n",
       "      <td>0.68</td>\n",
       "      <td>17.2</td>\n",
       "      <td>1800000.0</td>\n",
       "    </tr>\n",
       "    <tr>\n",
       "      <th>3</th>\n",
       "      <td>Canada</td>\n",
       "      <td>30.8</td>\n",
       "      <td>4</td>\n",
       "      <td>Canada</td>\n",
       "      <td>1.824289e+12</td>\n",
       "      <td>34750545.0</td>\n",
       "      <td>Canada</td>\n",
       "      <td>32.0</td>\n",
       "      <td>173.0</td>\n",
       "      <td>0.51</td>\n",
       "      <td>30.8</td>\n",
       "      <td>9950000.0</td>\n",
       "    </tr>\n",
       "    <tr>\n",
       "      <th>4</th>\n",
       "      <td>Denmark</td>\n",
       "      <td>12.0</td>\n",
       "      <td>0</td>\n",
       "      <td>Denmark</td>\n",
       "      <td>3.271489e+11</td>\n",
       "      <td>5591572.0</td>\n",
       "      <td>Denmark</td>\n",
       "      <td>31.9</td>\n",
       "      <td>15.0</td>\n",
       "      <td>0.27</td>\n",
       "      <td>12.0</td>\n",
       "      <td>650000.0</td>\n",
       "    </tr>\n",
       "  </tbody>\n",
       "</table>\n",
       "</div>"
      ],
      "text/plain": [
       "     Country  Guns per 100 inhabitants  Number of mass shootings (1983-2013)  \\\n",
       "0  Australia                      15.0                                     4   \n",
       "1    Austria                      30.4                                     1   \n",
       "2    Belgium                      17.2                                     2   \n",
       "3     Canada                      30.8                                     4   \n",
       "4    Denmark                      12.0                                     0   \n",
       "\n",
       "  Country Name           gdp         pop Country/Territory  \\\n",
       "0    Australia  1.543411e+12  22742475.0         Australia   \n",
       "1      Austria  4.094252e+11   8429991.0           Austria   \n",
       "2      Belgium  4.978842e+11  11128246.0           Belgium   \n",
       "3       Canada  1.824289e+12  34750545.0            Canada   \n",
       "4      Denmark  3.271489e+11   5591572.0           Denmark   \n",
       "\n",
       "   % of homicides by firearm  Number of homicides by firearm  \\\n",
       "0                       11.5                            30.0   \n",
       "1                       29.5                            18.0   \n",
       "2                       39.5                            70.0   \n",
       "3                       32.0                           173.0   \n",
       "4                       31.9                            15.0   \n",
       "\n",
       "   Homicide by firearm rate per 100,000 pop  Average firearms per 100 people  \\\n",
       "0                                      0.14                             15.0   \n",
       "1                                      0.22                             30.4   \n",
       "2                                      0.68                             17.2   \n",
       "3                                      0.51                             30.8   \n",
       "4                                      0.27                             12.0   \n",
       "\n",
       "   Average total all civilian firearms  \n",
       "0                            3050000.0  \n",
       "1                            2500000.0  \n",
       "2                            1800000.0  \n",
       "3                            9950000.0  \n",
       "4                             650000.0  "
      ]
     },
     "execution_count": 22,
     "metadata": {},
     "output_type": "execute_result"
    }
   ],
   "source": [
    "df_merged.head()"
   ]
  },
  {
   "cell_type": "code",
   "execution_count": 23,
   "metadata": {},
   "outputs": [],
   "source": [
    "df_merged['pop'] = df_merged['pop'].astype(float64)"
   ]
  },
  {
   "cell_type": "code",
   "execution_count": 24,
   "metadata": {},
   "outputs": [],
   "source": [
    "df_merged['shootingspp'] = df_merged[\"Number of mass shootings (1983-2013)\"] / df_merged['pop'] * 1e3"
   ]
  },
  {
   "cell_type": "code",
   "execution_count": 25,
   "metadata": {},
   "outputs": [],
   "source": [
    "##df_merged['civilian_fire_arms_pp'] = df_merged[\"Average total all civilian firearms\"] / df_merged['pop'] * 1e3"
   ]
  },
  {
   "cell_type": "code",
   "execution_count": 26,
   "metadata": {},
   "outputs": [
    {
     "name": "stderr",
     "output_type": "stream",
     "text": [
      "/usr/local/Anaconda3-5.0.0-Linux-x86_64/envs/PUI2016_Python3/lib/python3.5/site-packages/matplotlib/font_manager.py:1316: UserWarning: findfont: Font family ['sans-serif'] not found. Falling back to DejaVu Sans\n",
      "  (prop.get_family(), self.defaultFamily[fontext]))\n"
     ]
    },
    {
     "data": {
      "image/png": "[encoded data removed]",
      "text/plain": [
       "<matplotlib.figure.Figure at 0x7fab20df39e8>"
      ]
     },
     "metadata": {},
     "output_type": "display_data"
    },
    {
     "name": "stdout",
     "output_type": "stream",
     "text": [
      "Number of mass shooting (1983-2013) vs GDP, errors represent Poisson statistics.\n",
      "The datapoint to the top right of the plot is the USA, which has noth the highest GDP and the highest number of mass shootings\n"
     ]
    }
   ],
   "source": [
    "# Without Errors \n",
    "fig = pl.figure(figsize=(10,5)) \n",
    "ax = fig.add_subplot(111)\n",
    "\n",
    "scatter = ax.scatter(df_merged.gdp / 1e9, df_merged['shootingspp'])\n",
    "ax.set_xlabel(\"GDP (in billions)\")\n",
    "ax.set_ylabel(\"Average number of civilian fire arms per person\")\n",
    "ax.set_title('Figure 3: number of civilian fire arms per person vs National GDP')\n",
    "ax.set_ylim()\n",
    "pl.show()\n",
    "print (\"Number of mass shooting (1983-2013) vs GDP, \" + \n",
    "       \"errors represent Poisson statistics.\\n\" + \n",
    "       \"The datapoint to the top right of the plot is the USA, \" + \n",
    "       \"which has noth the highest GDP and the highest number of mass shootings\")\n"
   ]
  },
  {
   "cell_type": "code",
   "execution_count": 27,
   "metadata": {},
   "outputs": [
    {
     "name": "stderr",
     "output_type": "stream",
     "text": [
      "/usr/local/Anaconda3-5.0.0-Linux-x86_64/envs/PUI2016_Python3/lib/python3.5/site-packages/matplotlib/font_manager.py:1316: UserWarning: findfont: Font family ['sans-serif'] not found. Falling back to DejaVu Sans\n",
      "  (prop.get_family(), self.defaultFamily[fontext]))\n"
     ]
    },
    {
     "data": {
      "image/png": "[encoded data removed]",
      "text/plain": [
       "<matplotlib.figure.Figure at 0x7fab20df3e80>"
      ]
     },
     "metadata": {},
     "output_type": "display_data"
    },
    {
     "name": "stdout",
     "output_type": "stream",
     "text": [
      "Number of mass shooting (1983-2013) vs GDP, errors represent Poisson statistics.\n",
      "The datapoint to the top right of the plot is the USA, which has noth the highest GDP and the highest number of mass shootings\n"
     ]
    }
   ],
   "source": [
    "# With Errors \n",
    "fig = pl.figure(figsize=(10,5)) \n",
    "ax = fig.add_subplot(111)\n",
    "\n",
    "scatter = ax.scatter(df_merged.gdp / 1e9, df_merged['shootingspp'])\n",
    "ax.errorbar(df_merged.gdp / 1e9, df_merged['shootingspp'], \n",
    "            yerr = np.sqrt(df_merged['shootingspp'] * 1.0), fmt = '.')\n",
    "ax.set_xlabel(\"GDP (in billions)\")\n",
    "ax.set_ylabel(\"Average number of civilian fire arms per person\")\n",
    "ax.set_title('Figure 4: Average number of civilian fire arms with Errors per person vs National GDP')\n",
    "ax.set_ylim()\n",
    "pl.show()\n",
    "print (\"Number of mass shooting (1983-2013) vs GDP, \" + \n",
    "       \"errors represent Poisson statistics.\\n\" + \n",
    "       \"The datapoint to the top right of the plot is the USA, \" + \n",
    "       \"which has noth the highest GDP and the highest number of mass shootings\")\n"
   ]
  },
  {
   "cell_type": "markdown",
   "metadata": {
    "run_control": {
     "frozen": false,
     "read_only": false
    }
   },
   "source": [
    "## 3.  plot the average number of homicide by fire arms per person\n",
    "first as a histogram\n",
    "\n",
    "then against the country GDP, with statistical errors. are there  points that look like outliers?"
   ]
  },
  {
   "cell_type": "code",
   "execution_count": 44,
   "metadata": {},
   "outputs": [],
   "source": [
    "#df_merged['pop'] = df_merged['pop'].astype(int)"
   ]
  },
  {
   "cell_type": "code",
   "execution_count": 47,
   "metadata": {},
   "outputs": [
    {
     "name": "stdout",
     "output_type": "stream",
     "text": [
      "Figure 5: The histogram above reflects that most countries have less than 0.001 homicider for every 1000 people, however, one country ranges between 0.025 to 0.03 homicides by firmarm per 100 people\n"
     ]
    },
    {
     "name": "stderr",
     "output_type": "stream",
     "text": [
      "/usr/local/Anaconda3-5.0.0-Linux-x86_64/envs/PUI2016_Python3/lib/python3.5/site-packages/matplotlib/font_manager.py:1316: UserWarning: findfont: Font family ['sans-serif'] not found. Falling back to DejaVu Sans\n",
      "  (prop.get_family(), self.defaultFamily[fontext]))\n"
     ]
    },
    {
     "data": {
      "image/png": "[encoded data removed]",
      "text/plain": [
       "<matplotlib.figure.Figure at 0x7fab1e28c748>"
      ]
     },
     "metadata": {},
     "output_type": "display_data"
    }
   ],
   "source": [
    "tmp = df_merged.dropna()\n",
    "# Histogram\n",
    "fig, ax = plt.subplots()\n",
    "ax.hist(tmp['Number of homicides by firearm'] / tmp['pop'] * 1000)\n",
    "ax.set_xlabel('homicides by firearm per 1000 people')\n",
    "ax.set_ylabel('Count')\n",
    "ax.set_title('Figure 5:Countries Count: Homicides by firearm per 1000 people')\n",
    "print(\"Figure 5: The histogram above reflects that most countries have less than 0.001 homicider for every 1000 people, however, one country ranges between 0.025 to 0.03 homicides by firmarm per 100 people\");"
   ]
  },
  {
   "cell_type": "code",
   "execution_count": 30,
   "metadata": {},
   "outputs": [],
   "source": [
    "df_merged['civilian_fire_arms_pp'] = df_merged[\"Average total all civilian firearms\"] / df_merged['pop'] * 1e3"
   ]
  },
  {
   "cell_type": "code",
   "execution_count": 31,
   "metadata": {},
   "outputs": [
    {
     "name": "stderr",
     "output_type": "stream",
     "text": [
      "/usr/local/Anaconda3-5.0.0-Linux-x86_64/envs/PUI2016_Python3/lib/python3.5/site-packages/matplotlib/font_manager.py:1316: UserWarning: findfont: Font family ['sans-serif'] not found. Falling back to DejaVu Sans\n",
      "  (prop.get_family(), self.defaultFamily[fontext]))\n"
     ]
    },
    {
     "data": {
      "image/png": "[encoded data removed]",
      "text/plain": [
       "<matplotlib.figure.Figure at 0x7fab20d96438>"
      ]
     },
     "metadata": {},
     "output_type": "display_data"
    },
    {
     "name": "stdout",
     "output_type": "stream",
     "text": [
      "the average number of civilian fire arms per person vs GDP, errors represent Poisson statistics.\n",
      "The datapoint to the right of the plot is the USA, which has noth the highest GDP and the highest number ofcivilian fire arms per person\n"
     ]
    }
   ],
   "source": [
    "# Outlier \n",
    "\n",
    "fig = pl.figure(figsize=(6,5)) \n",
    "ax = fig.add_subplot(111)\n",
    "\n",
    "scatter = ax.scatter(df_merged.gdp / 1e9, df_merged[\"Number of homicides by firearm\"])\n",
    "## ax.errorbar(df_merged.gdp / 1e9, df_merged[\"Number of homicides by firearm\"], \n",
    "           ## yerr = np.sqrt(df_merged[\"Average total all civilian firearms\"] * 1.0), fmt = '.')\n",
    "ax.set_xlabel(\"gdp (in billions)\")\n",
    "ax.set_ylabel('Homicides by firearm per 1000 people')\n",
    "ax.set_title('Figure 6: Homicides by firearm per 1000 people with errors vs National GDP')\n",
    "ax.set_ylim()\n",
    "plt.show()\n",
    "print (\"the average number of civilian fire arms per person vs GDP, \" + \n",
    "       \"errors represent Poisson statistics.\\n\" + \n",
    "       \"The datapoint to the right of the plot is the USA, \" + \n",
    "       \"which has noth the highest GDP and the highest number ofcivilian fire arms per person\")"
   ]
  },
  {
   "cell_type": "markdown",
   "metadata": {
    "run_control": {
     "frozen": false,
     "read_only": false
    }
   },
   "source": [
    "## 4. plot the number of  homicides by fire arm against the number of civilian firearms. plot the  US in a different color\n",
    "with and without errorbars\n"
   ]
  },
  {
   "cell_type": "code",
   "execution_count": 32,
   "metadata": {},
   "outputs": [
    {
     "data": {
      "text/plain": [
       "24    9146.0\n",
       "Name: Number of homicides by firearm, dtype: float64"
      ]
     },
     "execution_count": 32,
     "metadata": {},
     "output_type": "execute_result"
    }
   ],
   "source": [
    "# Locating the row for USA\n",
    "df_merged['Number of homicides by firearm'][(df_merged['Country']=='United States')]"
   ]
  },
  {
   "cell_type": "code",
   "execution_count": 33,
   "metadata": {},
   "outputs": [
    {
     "name": "stderr",
     "output_type": "stream",
     "text": [
      "/usr/local/Anaconda3-5.0.0-Linux-x86_64/envs/PUI2016_Python3/lib/python3.5/site-packages/matplotlib/font_manager.py:1316: UserWarning: findfont: Font family ['sans-serif'] not found. Falling back to DejaVu Sans\n",
      "  (prop.get_family(), self.defaultFamily[fontext]))\n"
     ]
    },
    {
     "data": {
      "image/png": "[encoded data removed]",
      "text/plain": [
       "<matplotlib.figure.Figure at 0x7fab1e388be0>"
      ]
     },
     "metadata": {},
     "output_type": "display_data"
    }
   ],
   "source": [
    "\n",
    "\n",
    "fig = pl.figure(figsize=(10,5)) \n",
    "ax = fig.add_subplot(111)\n",
    "scatter = ax.scatter(df_merged['Average total all civilian firearms'], df_merged['Number of homicides by firearm'],\n",
    "                    c=df_merged['Number of homicides by firearm'])\n",
    "ax.errorbar(df_merged['Average total all civilian firearms'], df_merged['Number of homicides by firearm'], \n",
    "            yerr = np.sqrt(df_merged['Number of homicides by firearm']* 100.0), fmt = '.')\n",
    "ax.set_xlabel(\"Average number of civilian fire arms per person\")\n",
    "ax.set_ylabel(\"Homicides by fire arm\")\n",
    "ax.set_title('Figure 7: Homicides by fire arm against Average number with errors of civilian fire arms per person')\n",
    "ax.set_ylim()\n",
    "pl.legend()\n",
    "pl.show()\n"
   ]
  },
  {
   "cell_type": "markdown",
   "metadata": {},
   "source": [
    "\n",
    "### 5. plot the number of mass shootings against the number of civilian firearms. plot the US in a different color"
   ]
  },
  {
   "cell_type": "code",
   "execution_count": 34,
   "metadata": {},
   "outputs": [
    {
     "name": "stderr",
     "output_type": "stream",
     "text": [
      "/usr/local/Anaconda3-5.0.0-Linux-x86_64/envs/PUI2016_Python3/lib/python3.5/site-packages/matplotlib/font_manager.py:1316: UserWarning: findfont: Font family ['sans-serif'] not found. Falling back to DejaVu Sans\n",
      "  (prop.get_family(), self.defaultFamily[fontext]))\n"
     ]
    },
    {
     "data": {
      "image/png": "[encoded data removed]",
      "text/plain": [
       "<matplotlib.figure.Figure at 0x7fab1e303710>"
      ]
     },
     "metadata": {},
     "output_type": "display_data"
    }
   ],
   "source": [
    "# Excluding errorbars\n",
    "fig = pl.figure(figsize=(10,5)) \n",
    "ax = fig.add_subplot(111)\n",
    "\n",
    "x = df_merged['Average total all civilian firearms']\n",
    "y = df_merged['Number of homicides by firearm']\n",
    "\n",
    "\n",
    "scatter = ax.scatter(df_merged['Average total all civilian firearms'], df_merged['Number of homicides by firearm'])\n",
    "usa_scatter = ax.plot(df_merged['Average total all civilian firearms'][24],df_merged['Number of homicides by firearm'][24],label='USA')\n",
    "\n",
    "\n",
    "ax.set_xlabel(\"Average number of civilian fire arms per person\")\n",
    "ax.set_ylabel(\"Homicides by fire arm\")\n",
    "ax.set_ylim()\n",
    "ax.set_title('Figure 8: Homicides by fire arm vs Average number of civilian fire arms per person')\n",
    "pl.legend()\n",
    "pl.show()"
   ]
  },
  {
   "cell_type": "code",
   "execution_count": 35,
   "metadata": {},
   "outputs": [
    {
     "name": "stderr",
     "output_type": "stream",
     "text": [
      "/usr/local/Anaconda3-5.0.0-Linux-x86_64/envs/PUI2016_Python3/lib/python3.5/site-packages/matplotlib/font_manager.py:1316: UserWarning: findfont: Font family ['sans-serif'] not found. Falling back to DejaVu Sans\n",
      "  (prop.get_family(), self.defaultFamily[fontext]))\n"
     ]
    },
    {
     "data": {
      "image/png": "[encoded data removed]",
      "text/plain": [
       "<matplotlib.figure.Figure at 0x7fab1e306c50>"
      ]
     },
     "metadata": {},
     "output_type": "display_data"
    },
    {
     "name": "stdout",
     "output_type": "stream",
     "text": [
      "Caption: Number of mass shootings (1983-2013) vs Average total all civilian firearms.The red dot represents USA, which has noth the highest Average civilian firearm per capita and the highest number of mass shooting\n"
     ]
    }
   ],
   "source": [
    "# Plotting With Errorbars\n",
    "\n",
    "fig = pl.figure(figsize=(10,5)) \n",
    "ax = fig.add_subplot(111)\n",
    "x = df_merged['Average total all civilian firearms']\n",
    "y =df_merged['Number of mass shootings (1983-2013)']\n",
    "scatter = ax.scatter(df_merged['Average total all civilian firearms'], df_merged ['Number of mass shootings (1983-2013)'])\n",
    "ax.errorbar(df_merged['Average total all civilian firearms'], df_merged['Number of mass shootings (1983-2013)'],\n",
    "            yerr = np.sqrt(df_merged['Number of mass shootings (1983-2013)'] * 100), fmt = '.')\n",
    "\n",
    "usa_scatter = ax.plot(df_merged['Average total all civilian firearms'][24],df_merged['Number of homicides by firearm'][24],label='USA')\n",
    "\n",
    "ax.set_xlabel(\"Average number of civilian fire arms per person\")\n",
    "ax.set_ylabel(\"Number of mass shootings (1983-2013)\")\n",
    "ax.set_ylim()\n",
    "ax.set_title('Figure 10: Number of mass shootings vs Average number of civilian fire arms per person with error')\n",
    "pl.legend()\n",
    "pl.show()\n",
    "print('Caption: Number of mass shootings (1983-2013) vs Average total all civilian firearms.'+\n",
    "'The red dot represents USA, which has noth the highest Average civilian firearm per capita and the highest number of mass shooting')"
   ]
  },
  {
   "cell_type": "markdown",
   "metadata": {
    "run_control": {
     "frozen": false,
     "read_only": false
    }
   },
   "source": [
    "# Modeling\n",
    "\n",
    "## fit a line to the Number of mass shootings  per person as a function of Average total all civilian firearms per person. \n",
    "Before you do it it is a good idea to make sure that both quantities are roughly of the same order of magnitude (unity). (You can simply divide by the order of magnitude of the mean of the sample to obtain this). Use\n",
    "\n",
    "    - statsmodels OLS\n",
    "    - statsmodels WLS\n",
    "    - seaborn\n",
    "    - choose one of\n",
    "        -- creating a function that calculates the residuals and minimizing that function\n",
    "        -- analytical solution http://mathworld.wolfram.com/LeastSquaresFitting.html\n",
    "        -- numpy.polyfit() - https://docs.scipy.org/doc/numpy-1.13.0/reference/generated/numpy.polyfit.html\n",
    "    \n",
    "\n",
    "WLS: that is the weighted square fit. The statsmodel package WLS function allows you to take the uncertainties of each data point into account when you fit your model. It takes the parameter weights, which is the inverse of your errors:\n",
    "weights = 1.0/df.yerror\n",
    "Notice that \n",
    "    a - sqrt(0) = 0\n",
    "    b - 1/0 = infinity\n",
    "    c - you cannot have weight that are infinity in your fit. Please come up with a solution and justify it.\n",
    "\n",
    "\n",
    "the latter three you can learn about in this example: https://github.com/fedhere/PUI2017_fb55/blob/master/Lab5_fb55/genderIncomeBias.ipynb\n",
    "Since we did not discuss these, I will add some notes to the repo in the afternoon.\n",
    "\n",
    "Use the seaborn python package built in regression function  to plot the regression confidence intervals. \n",
    "\n",
    "import seaborn  as sns\n",
    "sns.regplot(x=\"x\", y=\"y\", data=df);\n",
    "\n",
    "\n"
   ]
  },
  {
   "cell_type": "code",
   "execution_count": 36,
   "metadata": {},
   "outputs": [],
   "source": [
    "# using this link as a referance https://www.statsmodels.org/dev/generated/statsmodels.regression.linear_model.OLS.html"
   ]
  },
  {
   "cell_type": "code",
   "execution_count": 37,
   "metadata": {},
   "outputs": [
    {
     "data": {
      "text/html": [
       "<div>\n",
       "<table border=\"1\" class=\"dataframe\">\n",
       "  <thead>\n",
       "    <tr style=\"text-align: right;\">\n",
       "      <th></th>\n",
       "      <th>Country</th>\n",
       "      <th>Guns per 100 inhabitants</th>\n",
       "      <th>Number of mass shootings (1983-2013)</th>\n",
       "      <th>Country Name</th>\n",
       "      <th>gdp</th>\n",
       "      <th>pop</th>\n",
       "      <th>Country/Territory</th>\n",
       "      <th>% of homicides by firearm</th>\n",
       "      <th>Number of homicides by firearm</th>\n",
       "      <th>Homicide by firearm rate per 100,000 pop</th>\n",
       "      <th>Average firearms per 100 people</th>\n",
       "      <th>Average total all civilian firearms</th>\n",
       "      <th>shootingspp</th>\n",
       "      <th>civilian_fire_arms_pp</th>\n",
       "    </tr>\n",
       "  </thead>\n",
       "  <tbody>\n",
       "    <tr>\n",
       "      <th>0</th>\n",
       "      <td>Australia</td>\n",
       "      <td>15.0</td>\n",
       "      <td>4</td>\n",
       "      <td>Australia</td>\n",
       "      <td>1.543411e+12</td>\n",
       "      <td>22742475.0</td>\n",
       "      <td>Australia</td>\n",
       "      <td>11.5</td>\n",
       "      <td>30.0</td>\n",
       "      <td>0.14</td>\n",
       "      <td>15.0</td>\n",
       "      <td>3050000.0</td>\n",
       "      <td>0.000176</td>\n",
       "      <td>134.110294</td>\n",
       "    </tr>\n",
       "    <tr>\n",
       "      <th>1</th>\n",
       "      <td>Austria</td>\n",
       "      <td>30.4</td>\n",
       "      <td>1</td>\n",
       "      <td>Austria</td>\n",
       "      <td>4.094252e+11</td>\n",
       "      <td>8429991.0</td>\n",
       "      <td>Austria</td>\n",
       "      <td>29.5</td>\n",
       "      <td>18.0</td>\n",
       "      <td>0.22</td>\n",
       "      <td>30.4</td>\n",
       "      <td>2500000.0</td>\n",
       "      <td>0.000119</td>\n",
       "      <td>296.560222</td>\n",
       "    </tr>\n",
       "    <tr>\n",
       "      <th>2</th>\n",
       "      <td>Belgium</td>\n",
       "      <td>17.2</td>\n",
       "      <td>2</td>\n",
       "      <td>Belgium</td>\n",
       "      <td>4.978842e+11</td>\n",
       "      <td>11128246.0</td>\n",
       "      <td>Belgium</td>\n",
       "      <td>39.5</td>\n",
       "      <td>70.0</td>\n",
       "      <td>0.68</td>\n",
       "      <td>17.2</td>\n",
       "      <td>1800000.0</td>\n",
       "      <td>0.000180</td>\n",
       "      <td>161.750558</td>\n",
       "    </tr>\n",
       "    <tr>\n",
       "      <th>3</th>\n",
       "      <td>Canada</td>\n",
       "      <td>30.8</td>\n",
       "      <td>4</td>\n",
       "      <td>Canada</td>\n",
       "      <td>1.824289e+12</td>\n",
       "      <td>34750545.0</td>\n",
       "      <td>Canada</td>\n",
       "      <td>32.0</td>\n",
       "      <td>173.0</td>\n",
       "      <td>0.51</td>\n",
       "      <td>30.8</td>\n",
       "      <td>9950000.0</td>\n",
       "      <td>0.000115</td>\n",
       "      <td>286.326445</td>\n",
       "    </tr>\n",
       "    <tr>\n",
       "      <th>4</th>\n",
       "      <td>Denmark</td>\n",
       "      <td>12.0</td>\n",
       "      <td>0</td>\n",
       "      <td>Denmark</td>\n",
       "      <td>3.271489e+11</td>\n",
       "      <td>5591572.0</td>\n",
       "      <td>Denmark</td>\n",
       "      <td>31.9</td>\n",
       "      <td>15.0</td>\n",
       "      <td>0.27</td>\n",
       "      <td>12.0</td>\n",
       "      <td>650000.0</td>\n",
       "      <td>0.000000</td>\n",
       "      <td>116.246379</td>\n",
       "    </tr>\n",
       "  </tbody>\n",
       "</table>\n",
       "</div>"
      ],
      "text/plain": [
       "     Country  Guns per 100 inhabitants  Number of mass shootings (1983-2013)  \\\n",
       "0  Australia                      15.0                                     4   \n",
       "1    Austria                      30.4                                     1   \n",
       "2    Belgium                      17.2                                     2   \n",
       "3     Canada                      30.8                                     4   \n",
       "4    Denmark                      12.0                                     0   \n",
       "\n",
       "  Country Name           gdp         pop Country/Territory  \\\n",
       "0    Australia  1.543411e+12  22742475.0         Australia   \n",
       "1      Austria  4.094252e+11   8429991.0           Austria   \n",
       "2      Belgium  4.978842e+11  11128246.0           Belgium   \n",
       "3       Canada  1.824289e+12  34750545.0            Canada   \n",
       "4      Denmark  3.271489e+11   5591572.0           Denmark   \n",
       "\n",
       "   % of homicides by firearm  Number of homicides by firearm  \\\n",
       "0                       11.5                            30.0   \n",
       "1                       29.5                            18.0   \n",
       "2                       39.5                            70.0   \n",
       "3                       32.0                           173.0   \n",
       "4                       31.9                            15.0   \n",
       "\n",
       "   Homicide by firearm rate per 100,000 pop  Average firearms per 100 people  \\\n",
       "0                                      0.14                             15.0   \n",
       "1                                      0.22                             30.4   \n",
       "2                                      0.68                             17.2   \n",
       "3                                      0.51                             30.8   \n",
       "4                                      0.27                             12.0   \n",
       "\n",
       "   Average total all civilian firearms  shootingspp  civilian_fire_arms_pp  \n",
       "0                            3050000.0     0.000176             134.110294  \n",
       "1                            2500000.0     0.000119             296.560222  \n",
       "2                            1800000.0     0.000180             161.750558  \n",
       "3                            9950000.0     0.000115             286.326445  \n",
       "4                             650000.0     0.000000             116.246379  "
      ]
     },
     "execution_count": 37,
     "metadata": {},
     "output_type": "execute_result"
    }
   ],
   "source": [
    "df_merged.head()"
   ]
  },
  {
   "cell_type": "code",
   "execution_count": 38,
   "metadata": {},
   "outputs": [
    {
     "data": {
      "text/plain": [
       "0.00012038249879809528"
      ]
     },
     "execution_count": 38,
     "metadata": {},
     "output_type": "execute_result"
    }
   ],
   "source": [
    "df_merged['shootingspp'].mean()\n"
   ]
  },
  {
   "cell_type": "code",
   "execution_count": 39,
   "metadata": {},
   "outputs": [
    {
     "data": {
      "text/plain": [
       "226.01595245424747"
      ]
     },
     "execution_count": 39,
     "metadata": {},
     "output_type": "execute_result"
    }
   ],
   "source": [
    "df_merged[\"civilian_fire_arms_pp\"].mean()"
   ]
  },
  {
   "cell_type": "code",
   "execution_count": 48,
   "metadata": {},
   "outputs": [],
   "source": [
    "#followed assignment two\n",
    "fm=df_merged['civilian_fire_arms_pp']/df_merged['pop']\n"
   ]
  },
  {
   "cell_type": "code",
   "execution_count": 71,
   "metadata": {},
   "outputs": [],
   "source": [
    "s=df_merged['shootingspp']/ 1e-4\n",
    "OLS=sm.OLS(s, sm.add_constant(fm)).fit()\n",
    "fm=sm.add_constant(fm)"
   ]
  },
  {
   "cell_type": "code",
   "execution_count": 72,
   "metadata": {},
   "outputs": [],
   "source": [
    "olsmodel=sm.OLS(s, sm.add_constant(fm)).fit()"
   ]
  },
  {
   "cell_type": "code",
   "execution_count": 73,
   "metadata": {},
   "outputs": [],
   "source": [
    "w = 1/(np.var(fm))*fm\n"
   ]
  },
  {
   "cell_type": "code",
   "execution_count": 74,
   "metadata": {},
   "outputs": [
    {
     "ename": "ValueError",
     "evalue": "operands could not be broadcast together with shapes (25,) (25,2) ",
     "output_type": "error",
     "traceback": [
      "\u001b[0;31m---------------------------------------------------------------------------\u001b[0m",
      "\u001b[0;31mValueError\u001b[0m                                Traceback (most recent call last)",
      "\u001b[0;32m<ipython-input-74-c7caecdd0ddf>\u001b[0m in \u001b[0;36m<module>\u001b[0;34m()\u001b[0m\n\u001b[0;32m----> 1\u001b[0;31m \u001b[0msmfitw\u001b[0m \u001b[0;34m=\u001b[0m \u001b[0msm\u001b[0m\u001b[0;34m.\u001b[0m\u001b[0mWLS\u001b[0m\u001b[0;34m(\u001b[0m\u001b[0ms\u001b[0m\u001b[0;34m,\u001b[0m \u001b[0mfm\u001b[0m\u001b[0;34m,\u001b[0m\u001b[0mweights\u001b[0m\u001b[0;34m=\u001b[0m\u001b[0mw\u001b[0m\u001b[0;34m)\u001b[0m\u001b[0;34m.\u001b[0m\u001b[0mfit\u001b[0m\u001b[0;34m(\u001b[0m\u001b[0;34m)\u001b[0m\u001b[0;34m\u001b[0m\u001b[0m\n\u001b[0m",
      "\u001b[0;32m/usr/local/Anaconda3-5.0.0-Linux-x86_64/envs/PUI2016_Python3/lib/python3.5/site-packages/statsmodels/regression/linear_model.py\u001b[0m in \u001b[0;36m__init__\u001b[0;34m(self, endog, exog, weights, missing, hasconst, **kwargs)\u001b[0m\n\u001b[1;32m    584\u001b[0m             \u001b[0mweights\u001b[0m \u001b[0;34m=\u001b[0m \u001b[0mweights\u001b[0m\u001b[0;34m.\u001b[0m\u001b[0msqueeze\u001b[0m\u001b[0;34m(\u001b[0m\u001b[0;34m)\u001b[0m\u001b[0;34m\u001b[0m\u001b[0m\n\u001b[1;32m    585\u001b[0m         super(WLS, self).__init__(endog, exog, missing=missing,\n\u001b[0;32m--> 586\u001b[0;31m                                   weights=weights, hasconst=hasconst, **kwargs)\n\u001b[0m\u001b[1;32m    587\u001b[0m         \u001b[0mnobs\u001b[0m \u001b[0;34m=\u001b[0m \u001b[0mself\u001b[0m\u001b[0;34m.\u001b[0m\u001b[0mexog\u001b[0m\u001b[0;34m.\u001b[0m\u001b[0mshape\u001b[0m\u001b[0;34m[\u001b[0m\u001b[0;36m0\u001b[0m\u001b[0;34m]\u001b[0m\u001b[0;34m\u001b[0m\u001b[0m\n\u001b[1;32m    588\u001b[0m         \u001b[0mweights\u001b[0m \u001b[0;34m=\u001b[0m \u001b[0mself\u001b[0m\u001b[0;34m.\u001b[0m\u001b[0mweights\u001b[0m\u001b[0;34m\u001b[0m\u001b[0m\n",
      "\u001b[0;32m/usr/local/Anaconda3-5.0.0-Linux-x86_64/envs/PUI2016_Python3/lib/python3.5/site-packages/statsmodels/regression/linear_model.py\u001b[0m in \u001b[0;36m__init__\u001b[0;34m(self, endog, exog, **kwargs)\u001b[0m\n\u001b[1;32m     89\u001b[0m     \"\"\"\n\u001b[1;32m     90\u001b[0m     \u001b[0;32mdef\u001b[0m \u001b[0m__init__\u001b[0m\u001b[0;34m(\u001b[0m\u001b[0mself\u001b[0m\u001b[0;34m,\u001b[0m \u001b[0mendog\u001b[0m\u001b[0;34m,\u001b[0m \u001b[0mexog\u001b[0m\u001b[0;34m,\u001b[0m \u001b[0;34m**\u001b[0m\u001b[0mkwargs\u001b[0m\u001b[0;34m)\u001b[0m\u001b[0;34m:\u001b[0m\u001b[0;34m\u001b[0m\u001b[0m\n\u001b[0;32m---> 91\u001b[0;31m         \u001b[0msuper\u001b[0m\u001b[0;34m(\u001b[0m\u001b[0mRegressionModel\u001b[0m\u001b[0;34m,\u001b[0m \u001b[0mself\u001b[0m\u001b[0;34m)\u001b[0m\u001b[0;34m.\u001b[0m\u001b[0m__init__\u001b[0m\u001b[0;34m(\u001b[0m\u001b[0mendog\u001b[0m\u001b[0;34m,\u001b[0m \u001b[0mexog\u001b[0m\u001b[0;34m,\u001b[0m \u001b[0;34m**\u001b[0m\u001b[0mkwargs\u001b[0m\u001b[0;34m)\u001b[0m\u001b[0;34m\u001b[0m\u001b[0m\n\u001b[0m\u001b[1;32m     92\u001b[0m         \u001b[0mself\u001b[0m\u001b[0;34m.\u001b[0m\u001b[0m_data_attr\u001b[0m\u001b[0;34m.\u001b[0m\u001b[0mextend\u001b[0m\u001b[0;34m(\u001b[0m\u001b[0;34m[\u001b[0m\u001b[0;34m'pinv_wexog'\u001b[0m\u001b[0;34m,\u001b[0m \u001b[0;34m'wendog'\u001b[0m\u001b[0;34m,\u001b[0m \u001b[0;34m'wexog'\u001b[0m\u001b[0;34m,\u001b[0m \u001b[0;34m'weights'\u001b[0m\u001b[0;34m]\u001b[0m\u001b[0;34m)\u001b[0m\u001b[0;34m\u001b[0m\u001b[0m\n\u001b[1;32m     93\u001b[0m \u001b[0;34m\u001b[0m\u001b[0m\n",
      "\u001b[0;32m/usr/local/Anaconda3-5.0.0-Linux-x86_64/envs/PUI2016_Python3/lib/python3.5/site-packages/statsmodels/base/model.py\u001b[0m in \u001b[0;36m__init__\u001b[0;34m(self, endog, exog, **kwargs)\u001b[0m\n\u001b[1;32m    185\u001b[0m     \u001b[0;32mdef\u001b[0m \u001b[0m__init__\u001b[0m\u001b[0;34m(\u001b[0m\u001b[0mself\u001b[0m\u001b[0;34m,\u001b[0m \u001b[0mendog\u001b[0m\u001b[0;34m,\u001b[0m \u001b[0mexog\u001b[0m\u001b[0;34m=\u001b[0m\u001b[0;32mNone\u001b[0m\u001b[0;34m,\u001b[0m \u001b[0;34m**\u001b[0m\u001b[0mkwargs\u001b[0m\u001b[0;34m)\u001b[0m\u001b[0;34m:\u001b[0m\u001b[0;34m\u001b[0m\u001b[0m\n\u001b[1;32m    186\u001b[0m         \u001b[0msuper\u001b[0m\u001b[0;34m(\u001b[0m\u001b[0mLikelihoodModel\u001b[0m\u001b[0;34m,\u001b[0m \u001b[0mself\u001b[0m\u001b[0;34m)\u001b[0m\u001b[0;34m.\u001b[0m\u001b[0m__init__\u001b[0m\u001b[0;34m(\u001b[0m\u001b[0mendog\u001b[0m\u001b[0;34m,\u001b[0m \u001b[0mexog\u001b[0m\u001b[0;34m,\u001b[0m \u001b[0;34m**\u001b[0m\u001b[0mkwargs\u001b[0m\u001b[0;34m)\u001b[0m\u001b[0;34m\u001b[0m\u001b[0m\n\u001b[0;32m--> 187\u001b[0;31m         \u001b[0mself\u001b[0m\u001b[0;34m.\u001b[0m\u001b[0minitialize\u001b[0m\u001b[0;34m(\u001b[0m\u001b[0;34m)\u001b[0m\u001b[0;34m\u001b[0m\u001b[0m\n\u001b[0m\u001b[1;32m    188\u001b[0m \u001b[0;34m\u001b[0m\u001b[0m\n\u001b[1;32m    189\u001b[0m     \u001b[0;32mdef\u001b[0m \u001b[0minitialize\u001b[0m\u001b[0;34m(\u001b[0m\u001b[0mself\u001b[0m\u001b[0;34m)\u001b[0m\u001b[0;34m:\u001b[0m\u001b[0;34m\u001b[0m\u001b[0m\n",
      "\u001b[0;32m/usr/local/Anaconda3-5.0.0-Linux-x86_64/envs/PUI2016_Python3/lib/python3.5/site-packages/statsmodels/regression/linear_model.py\u001b[0m in \u001b[0;36minitialize\u001b[0;34m(self)\u001b[0m\n\u001b[1;32m     94\u001b[0m     \u001b[0;32mdef\u001b[0m \u001b[0minitialize\u001b[0m\u001b[0;34m(\u001b[0m\u001b[0mself\u001b[0m\u001b[0;34m)\u001b[0m\u001b[0;34m:\u001b[0m\u001b[0;34m\u001b[0m\u001b[0m\n\u001b[1;32m     95\u001b[0m         \u001b[0mself\u001b[0m\u001b[0;34m.\u001b[0m\u001b[0mwexog\u001b[0m \u001b[0;34m=\u001b[0m \u001b[0mself\u001b[0m\u001b[0;34m.\u001b[0m\u001b[0mwhiten\u001b[0m\u001b[0;34m(\u001b[0m\u001b[0mself\u001b[0m\u001b[0;34m.\u001b[0m\u001b[0mexog\u001b[0m\u001b[0;34m)\u001b[0m\u001b[0;34m\u001b[0m\u001b[0m\n\u001b[0;32m---> 96\u001b[0;31m         \u001b[0mself\u001b[0m\u001b[0;34m.\u001b[0m\u001b[0mwendog\u001b[0m \u001b[0;34m=\u001b[0m \u001b[0mself\u001b[0m\u001b[0;34m.\u001b[0m\u001b[0mwhiten\u001b[0m\u001b[0;34m(\u001b[0m\u001b[0mself\u001b[0m\u001b[0;34m.\u001b[0m\u001b[0mendog\u001b[0m\u001b[0;34m)\u001b[0m\u001b[0;34m\u001b[0m\u001b[0m\n\u001b[0m\u001b[1;32m     97\u001b[0m         \u001b[0;31m# overwrite nobs from class Model:\u001b[0m\u001b[0;34m\u001b[0m\u001b[0;34m\u001b[0m\u001b[0m\n\u001b[1;32m     98\u001b[0m         \u001b[0mself\u001b[0m\u001b[0;34m.\u001b[0m\u001b[0mnobs\u001b[0m \u001b[0;34m=\u001b[0m \u001b[0mfloat\u001b[0m\u001b[0;34m(\u001b[0m\u001b[0mself\u001b[0m\u001b[0;34m.\u001b[0m\u001b[0mwexog\u001b[0m\u001b[0;34m.\u001b[0m\u001b[0mshape\u001b[0m\u001b[0;34m[\u001b[0m\u001b[0;36m0\u001b[0m\u001b[0;34m]\u001b[0m\u001b[0;34m)\u001b[0m\u001b[0;34m\u001b[0m\u001b[0m\n",
      "\u001b[0;32m/usr/local/Anaconda3-5.0.0-Linux-x86_64/envs/PUI2016_Python3/lib/python3.5/site-packages/statsmodels/regression/linear_model.py\u001b[0m in \u001b[0;36mwhiten\u001b[0;34m(self, X)\u001b[0m\n\u001b[1;32m    608\u001b[0m         \u001b[0mX\u001b[0m \u001b[0;34m=\u001b[0m \u001b[0mnp\u001b[0m\u001b[0;34m.\u001b[0m\u001b[0masarray\u001b[0m\u001b[0;34m(\u001b[0m\u001b[0mX\u001b[0m\u001b[0;34m)\u001b[0m\u001b[0;34m\u001b[0m\u001b[0m\n\u001b[1;32m    609\u001b[0m         \u001b[0;32mif\u001b[0m \u001b[0mX\u001b[0m\u001b[0;34m.\u001b[0m\u001b[0mndim\u001b[0m \u001b[0;34m==\u001b[0m \u001b[0;36m1\u001b[0m\u001b[0;34m:\u001b[0m\u001b[0;34m\u001b[0m\u001b[0m\n\u001b[0;32m--> 610\u001b[0;31m             \u001b[0;32mreturn\u001b[0m \u001b[0mX\u001b[0m \u001b[0;34m*\u001b[0m \u001b[0mnp\u001b[0m\u001b[0;34m.\u001b[0m\u001b[0msqrt\u001b[0m\u001b[0;34m(\u001b[0m\u001b[0mself\u001b[0m\u001b[0;34m.\u001b[0m\u001b[0mweights\u001b[0m\u001b[0;34m)\u001b[0m\u001b[0;34m\u001b[0m\u001b[0m\n\u001b[0m\u001b[1;32m    611\u001b[0m         \u001b[0;32melif\u001b[0m \u001b[0mX\u001b[0m\u001b[0;34m.\u001b[0m\u001b[0mndim\u001b[0m \u001b[0;34m==\u001b[0m \u001b[0;36m2\u001b[0m\u001b[0;34m:\u001b[0m\u001b[0;34m\u001b[0m\u001b[0m\n\u001b[1;32m    612\u001b[0m             \u001b[0;32mreturn\u001b[0m \u001b[0mnp\u001b[0m\u001b[0;34m.\u001b[0m\u001b[0msqrt\u001b[0m\u001b[0;34m(\u001b[0m\u001b[0mself\u001b[0m\u001b[0;34m.\u001b[0m\u001b[0mweights\u001b[0m\u001b[0;34m)\u001b[0m\u001b[0;34m[\u001b[0m\u001b[0;34m:\u001b[0m\u001b[0;34m,\u001b[0m \u001b[0;32mNone\u001b[0m\u001b[0;34m]\u001b[0m\u001b[0;34m*\u001b[0m\u001b[0mX\u001b[0m\u001b[0;34m\u001b[0m\u001b[0m\n",
      "\u001b[0;31mValueError\u001b[0m: operands could not be broadcast together with shapes (25,) (25,2) "
     ]
    }
   ],
   "source": [
    "smfitw = sm.WLS(s, fm,weights=w).fit()"
   ]
  },
  {
   "cell_type": "code",
   "execution_count": 75,
   "metadata": {},
   "outputs": [
    {
     "ename": "NameError",
     "evalue": "name 'smfitw' is not defined",
     "output_type": "error",
     "traceback": [
      "\u001b[0;31m---------------------------------------------------------------------------\u001b[0m",
      "\u001b[0;31mNameError\u001b[0m                                 Traceback (most recent call last)",
      "\u001b[0;32m<ipython-input-75-87ac28440f11>\u001b[0m in \u001b[0;36m<module>\u001b[0;34m()\u001b[0m\n\u001b[1;32m     17\u001b[0m             yerr = np.sqrt(df_merged['Average total all civilian firearms']/df_merged['pop']* 1.0), fmt = '.')\n\u001b[1;32m     18\u001b[0m \u001b[0mpl\u001b[0m\u001b[0;34m.\u001b[0m\u001b[0mplot\u001b[0m\u001b[0;34m(\u001b[0m\u001b[0mfm\u001b[0m\u001b[0;34m,\u001b[0m \u001b[0molsmodel\u001b[0m\u001b[0;34m.\u001b[0m\u001b[0mfittedvalues\u001b[0m\u001b[0;34m,\u001b[0m \u001b[0;34m'-'\u001b[0m\u001b[0;34m,\u001b[0m \u001b[0mlabel\u001b[0m\u001b[0;34m=\u001b[0m\u001b[0;34m\"OLS fit\"\u001b[0m\u001b[0;34m,\u001b[0m\u001b[0mc\u001b[0m\u001b[0;34m=\u001b[0m\u001b[0;34m'r'\u001b[0m\u001b[0;34m)\u001b[0m\u001b[0;34m\u001b[0m\u001b[0m\n\u001b[0;32m---> 19\u001b[0;31m \u001b[0mpl\u001b[0m\u001b[0;34m.\u001b[0m\u001b[0mplot\u001b[0m\u001b[0;34m(\u001b[0m\u001b[0mfm\u001b[0m\u001b[0;34m,\u001b[0m \u001b[0msmfitw\u001b[0m\u001b[0;34m.\u001b[0m\u001b[0mfittedvalues\u001b[0m\u001b[0;34m,\u001b[0m \u001b[0;34m'-'\u001b[0m\u001b[0;34m,\u001b[0m \u001b[0mlabel\u001b[0m\u001b[0;34m=\u001b[0m\u001b[0;34m\"WLS fit\"\u001b[0m\u001b[0;34m,\u001b[0m\u001b[0mc\u001b[0m\u001b[0;34m=\u001b[0m\u001b[0;34m'black'\u001b[0m\u001b[0;34m)\u001b[0m\u001b[0;34m\u001b[0m\u001b[0m\n\u001b[0m\u001b[1;32m     20\u001b[0m \u001b[0;34m\u001b[0m\u001b[0m\n\u001b[1;32m     21\u001b[0m \u001b[0mpl\u001b[0m\u001b[0;34m.\u001b[0m\u001b[0mxlabel\u001b[0m\u001b[0;34m(\u001b[0m\u001b[0;34m\"Fire arms\"\u001b[0m\u001b[0;34m)\u001b[0m\u001b[0;34m\u001b[0m\u001b[0m\n",
      "\u001b[0;31mNameError\u001b[0m: name 'smfitw' is not defined"
     ]
    },
    {
     "name": "stderr",
     "output_type": "stream",
     "text": [
      "/usr/local/Anaconda3-5.0.0-Linux-x86_64/envs/PUI2016_Python3/lib/python3.5/site-packages/matplotlib/font_manager.py:1316: UserWarning: findfont: Font family ['sans-serif'] not found. Falling back to DejaVu Sans\n",
      "  (prop.get_family(), self.defaultFamily[fontext]))\n"
     ]
    },
    {
     "data": {
      "image/png": "[encoded data removed]",
      "text/plain": [
       "<matplotlib.figure.Figure at 0x7fab1de67b70>"
      ]
     },
     "metadata": {},
     "output_type": "display_data"
    }
   ],
   "source": [
    "fig = plt.figure(figsize=(10,10)) \n",
    "ax = plt.subplot(221)\n",
    "ax.scatter(df_merged['Average total all civilian firearms']/df_merged['pop'], df_merged['shootingspp']/ 1e-4)\n",
    "pl.xlabel(\"Fire arms\")\n",
    "pl.ylabel(\"Mass shootings\")\n",
    "\n",
    "ax2 = fig.add_subplot(222)\n",
    "ax2.scatter(df_merged['Average total all civilian firearms']/df_merged['pop'], df_merged['shootingspp']/ 1e-4,\n",
    "           label='y')\n",
    "pl.plot(fm, olsmodel.fittedvalues, '-', label=\"OLS fit\",c='black')\n",
    "pl.xlabel(\"Fire arms\")\n",
    "pl.ylabel(\"Mass shootings\")\n",
    "pl.legend()\n",
    "\n",
    "ax3 = fig.add_subplot(223)\n",
    "ax3.errorbar(df_merged['Average total all civilian firearms']/df_merged['pop'], s, \n",
    "            yerr = np.sqrt(df_merged['Average total all civilian firearms']/df_merged['pop']* 1.0), fmt = '.')\n",
    "pl.plot(fm, olsmodel.fittedvalues, '-', label=\"OLS fit\",c='r')\n",
    "pl.plot(fm, smfitw.fittedvalues, '-', label=\"WLS fit\",c='black')\n",
    "\n",
    "pl.xlabel(\"Fire arms\")\n",
    "pl.ylabel(\"Mass shootings\")\n",
    "pl.legend()\n"
   ]
  },
  {
   "cell_type": "markdown",
   "metadata": {
    "run_control": {
     "frozen": false,
     "read_only": false
    }
   },
   "source": [
    "## Outlier removal:\n",
    "The concept of outlier is actually rather sophisticated: a point can be an outlier in a context but not in another. If you want to remove outliers and try different fits, here is some info on how to remove data efficiently from a dataset \n",
    "    https://gist.github.com/fedhere/89db40a3c9a28335bf5a35d52a52c595"
   ]
  },
  {
   "cell_type": "markdown",
   "metadata": {
    "ExecuteTime": {
     "end_time": "2017-10-12T16:21:08.019663",
     "start_time": "2017-10-12T16:21:08.010876"
    },
    "run_control": {
     "frozen": false,
     "read_only": false
    }
   },
   "source": [
    "## Extra credit: calculate the confidence interval by hand and also plot them \n",
    "you can use pylab.fill_between(x, yfit - ci, yfit + ci, alpha=0.5)"
   ]
  },
  {
   "cell_type": "markdown",
   "metadata": {
    "run_control": {
     "frozen": false,
     "read_only": false
    }
   },
   "source": [
    "**Confidence intervals: **\n",
    "there are three type of intervals in a linear regression, plot any one of them all three if you want - how do they compare to the seaborn plot?:\n",
    "\n",
    "1) Confidence intervals for the parameters slope and intercept\n",
    "\n",
    "2) Confidence interval for the average y value\n",
    "\n",
    "3) Prediction interval for a single y value"
   ]
  },
  {
   "cell_type": "markdown",
   "metadata": {
    "run_control": {
     "frozen": false,
     "read_only": false
    }
   },
   "source": [
    "1) __confidence interval of the  model parameters slope and intercept:__\n",
    "define sigma as the sum of the residuals over the square root of number n of observations. \n",
    "\n",
    "sigma: σ̂ =sqrt(Sum((Yoberved_i−Ypredicted_i)^2)/n)\n",
    "\n",
    "where the sum is over all observations\n",
    "\n",
    "Define t_alpha/2,n-2 the t statistics at (1-alpha/2) for a t distribution with n-2 degrees of freedom (you can calculate it with scipy\n",
    "tp = sp.stats.t.ppf(0.975, n-2)\n",
    "\n"
   ]
  },
  {
   "cell_type": "code",
   "execution_count": null,
   "metadata": {
    "ExecuteTime": {
     "end_time": "2017-10-12T15:42:26.836222",
     "start_time": "2017-10-12T15:42:26.819963"
    },
    "run_control": {
     "frozen": false,
     "read_only": false
    }
   },
   "outputs": [],
   "source": [
    "from IPython.display import Image\n",
    "Image(filename=\"../Lab5_fb55/confidence_intervals_regression.png\")"
   ]
  },
  {
   "cell_type": "code",
   "execution_count": null,
   "metadata": {
    "ExecuteTime": {
     "end_time": "2017-10-12T15:54:20.748008",
     "start_time": "2017-10-12T15:54:20.736381"
    },
    "run_control": {
     "frozen": false,
     "read_only": false
    }
   },
   "outputs": [],
   "source": [
    "from IPython.display import Image\n",
    "Image(filename=\"../Lab5_fb55/confidence_intervals_regression2.png\")"
   ]
  },
  {
   "cell_type": "markdown",
   "metadata": {
    "run_control": {
     "frozen": false,
     "read_only": false
    }
   },
   "source": [
    "[proof](https://onlinecourses.science.psu.edu/stat414/node/280)"
   ]
  },
  {
   "cell_type": "markdown",
   "metadata": {
    "run_control": {
     "frozen": false,
     "read_only": false
    }
   },
   "source": [
    "2) **A confidence interval for E(y | x) , the expected (average) value of y for a given x_**\n",
    "\n",
    "define s: residual standard error sy = sqrt(Sum((y_observed-y_predicted)^2)/(n-2))\n",
    "\n",
    "(note: n-2 is the degrees of freedom of the problem: observations - number of parameters - 1)\n",
    "\n",
    "the confidence interval for a given y(x*) is: \n",
    "\n",
    "y_predicted(x*) +/- t_(alpha/2)(n-2) * sy * sqrt( 1/n + (x* - mean(x)^2) / sum((x* - mean(x)^2)"
   ]
  },
  {
   "cell_type": "code",
   "execution_count": null,
   "metadata": {
    "ExecuteTime": {
     "end_time": "2017-10-12T16:09:14.173143",
     "start_time": "2017-10-12T16:09:14.161088"
    },
    "run_control": {
     "frozen": false,
     "read_only": false
    }
   },
   "outputs": [],
   "source": [
    "from IPython.display import Image\n",
    "Image(filename=\"../Lab5_fb55/ciY.png\")"
   ]
  },
  {
   "cell_type": "markdown",
   "metadata": {
    "run_control": {
     "frozen": false,
     "read_only": false
    }
   },
   "source": [
    "3) **Confidence intervals for average y (predicted) values**\n",
    "\n",
    "y_predicted(x*) +/- t_(n-2) * sy * sqrt( 1 + 1/n + (x* - mean(x)^2) / sum((x* - mean(x)^2)\n",
    "\n",
    "very similar, but note the +1 in the square root"
   ]
  },
  {
   "cell_type": "code",
   "execution_count": null,
   "metadata": {
    "ExecuteTime": {
     "end_time": "2017-10-12T16:08:46.077157",
     "start_time": "2017-10-12T16:08:46.067407"
    },
    "run_control": {
     "frozen": false,
     "read_only": false
    }
   },
   "outputs": [],
   "source": [
    "from IPython.display import Image\n",
    "Image(filename=\"../Lab5_fb55/ciYaverage.png\")"
   ]
  },
  {
   "cell_type": "code",
   "execution_count": null,
   "metadata": {
    "ExecuteTime": {
     "end_time": "2017-10-12T16:36:39.238967",
     "start_time": "2017-10-12T16:36:38.688004"
    },
    "run_control": {
     "frozen": false,
     "read_only": false
    }
   },
   "outputs": [],
   "source": [
    "pl.figure()\n",
    "import seaborn  as sns\n",
    "sns.regplot(x=\"x\", y=\"y\", data=df_);\n",
    "\n",
    "pl.ylabel(\"Mass shootings\")\n",
    "pl.xlabel(\"Fire arms\");"
   ]
  },
  {
   "cell_type": "markdown",
   "metadata": {
    "run_control": {
     "frozen": false,
     "read_only": false
    }
   },
   "source": [
    "## Use the stsatsmodels.gaphics package to plot the influence plot. \n",
    "Read the package documentation to learn how to read this plot and extract the countries with the highest influence\n",
    "\n",
    "This is the topic of this week's assigned reading, so make sure you do the reading before you do this step. It will help you interpret the plot."
   ]
  },
  {
   "cell_type": "code",
   "execution_count": null,
   "metadata": {
    "ExecuteTime": {
     "end_time": "2017-10-11T07:46:21.766085",
     "start_time": "2017-10-11T07:46:21.412498"
    },
    "run_control": {
     "frozen": false,
     "read_only": false
    }
   },
   "outputs": [],
   "source": [
    "sm.graphics.influence_plot(modelOLS, alpha  = 0.05, criterion=\"cooks\");"
   ]
  },
  {
   "cell_type": "markdown",
   "metadata": {
    "run_control": {
     "frozen": false,
     "read_only": false
    }
   },
   "source": [
    "## Extra credit: calculate from scratch the stanrdardized residuals and the H leverage for the WLS model and discuss if there are any differences"
   ]
  },
  {
   "cell_type": "markdown",
   "metadata": {
    "run_control": {
     "frozen": false,
     "read_only": false
    }
   },
   "source": [
    "## Discuss your findings"
   ]
  },
  {
   "cell_type": "code",
   "execution_count": null,
   "metadata": {},
   "outputs": [],
   "source": []
  }
 ],
 "metadata": {
  "anaconda-cloud": {},
  "kernelspec": {
   "display_name": "PUI2016_Python3",
   "language": "python",
   "name": "pui2016_python3"
  },
  "language_info": {
   "codemirror_mode": {
    "name": "ipython",
    "version": 3
   },
   "file_extension": ".py",
   "mimetype": "text/x-python",
   "name": "python",
   "nbconvert_exporter": "python",
   "pygments_lexer": "ipython3",
   "version": "3.5.4"
  },
  "latex_envs": {
   "LaTeX_envs_menu_present": true,
   "bibliofile": "biblio.bib",
   "cite_by": "apalike",
   "current_citInitial": 1,
   "eqLabelWithNumbers": true,
   "eqNumInitial": 1,
   "hotkeys": {
    "equation": "Ctrl-E",
    "itemize": "Ctrl-I"
   },
   "labels_anchors": false,
   "latex_user_defs": false,
   "report_style_numbering": false,
   "user_envs_cfg": false
  },
  "toc": {
   "colors": {
    "hover_highlight": "#DAA520",
    "running_highlight": "#FF0000",
    "selected_highlight": "#FFD700"
   },
   "moveMenuLeft": true,
   "nav_menu": {
    "height": "13px",
    "width": "251px"
   },
   "navigate_menu": true,
   "number_sections": true,
   "sideBar": true,
   "threshold": 4,
   "toc_cell": true,
   "toc_section_display": "block",
   "toc_window_display": true
  }
 },
 "nbformat": 4,
 "nbformat_minor": 1
}
